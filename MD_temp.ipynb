{
  "nbformat": 4,
  "nbformat_minor": 0,
  "metadata": {
    "colab": {
      "provenance": [],
      "authorship_tag": "ABX9TyPS7YpDjCMzhsj8yYifnnL6",
      "include_colab_link": true
    },
    "kernelspec": {
      "name": "python3",
      "display_name": "Python 3"
    },
    "language_info": {
      "name": "python"
    }
  },
  "cells": [
    {
      "cell_type": "markdown",
      "metadata": {
        "id": "view-in-github",
        "colab_type": "text"
      },
      "source": [
        "<a href=\"https://colab.research.google.com/github/mannodiarun/MSE570/blob/main/MD_temp.ipynb\" target=\"_parent\"><img src=\"https://colab.research.google.com/assets/colab-badge.svg\" alt=\"Open In Colab\"/></a>"
      ]
    },
    {
      "cell_type": "code",
      "execution_count": 40,
      "metadata": {
        "id": "4qjgsNKuLgrI"
      },
      "outputs": [],
      "source": [
        "import numpy as np\n",
        "import math\n",
        "import matplotlib.pyplot as plt\n",
        "import copy"
      ]
    },
    {
      "cell_type": "code",
      "source": [
        "N = 4\n",
        "x = [0.0]*N\n",
        "y = [0.0]*N\n",
        "box = 1\n",
        "m = 1/4000\n",
        "\n",
        "x[0] = 0.25*box\n",
        "x[1] = 0.25*box\n",
        "x[2] = 0.75*box\n",
        "x[3] = 0.75*box\n",
        "\n",
        "y[0] = 0.25*box\n",
        "y[1] = 0.75*box\n",
        "y[2] = 0.25*box\n",
        "y[3] = 0.75*box\n",
        "\n",
        "x_start = copy.deepcopy(x)\n",
        "y_start = copy.deepcopy(y)\n"
      ],
      "metadata": {
        "id": "WAIa1Z0MLmCN"
      },
      "execution_count": 80,
      "outputs": []
    },
    {
      "cell_type": "code",
      "source": [
        "##  Visualize starting configuration  ##\n",
        "\n",
        "for i in range(0,N):\n",
        "    plt.scatter(x[i],y[i],c='k',marker='o',s=500)\n",
        "plt.xlim(0,box)\n",
        "plt.ylim(0,box)\n",
        "plt.show()\n"
      ],
      "metadata": {
        "colab": {
          "base_uri": "https://localhost:8080/",
          "height": 435
        },
        "id": "yMDa_ZeZM1V8",
        "outputId": "b4ff2bdd-bf5f-48ff-e5b9-e86f9f91ee23"
      },
      "execution_count": 81,
      "outputs": [
        {
          "output_type": "display_data",
          "data": {
            "text/plain": [
              "<Figure size 640x480 with 1 Axes>"
            ],
            "image/png": "[encoded data removed]"
          },
          "metadata": {}
        }
      ]
    },
    {
      "cell_type": "code",
      "source": [
        "###  Use this for Simple Pairwise Potential  ##\n",
        "\n",
        "def force(x_all,y_all):\n",
        "\n",
        "    en = 0\n",
        "    c = -1/10\n",
        "    rc = 0.75\n",
        "    forces_x = [0.0]*N\n",
        "    forces_y = [0.0]*N\n",
        "\n",
        "    for i in range (0,N-1):\n",
        "        for j in range (i+1,N):\n",
        "            xr = x_all[i] - x_all[j]\n",
        "            xr = xr - box*np.round(xr/box)\n",
        "            yr = y_all[i] - y_all[j]\n",
        "            yr = yr - box*np.round(yr/box)\n",
        "            r = np.sqrt(xr*xr + yr*yr)\n",
        "            if r <= rc:\n",
        "                ff = c/(r*r)\n",
        "                forces_x[i] = forces_x[i] + ff*(xr/r)\n",
        "                forces_x[j] = forces_x[j] - ff*(xr/r)\n",
        "                forces_y[i] = forces_y[i] + ff*(yr/r)\n",
        "                forces_y[j] = forces_y[j] - ff*(yr/r)\n",
        "                en = en + c/r\n",
        "\n",
        "    return(en,forces_x,forces_y)\n"
      ],
      "metadata": {
        "id": "g9AEVOdgNBFV"
      },
      "execution_count": 82,
      "outputs": []
    },
    {
      "cell_type": "code",
      "source": [
        "###  Use this for Calculating Average Pairwise Distances  ##\n",
        "\n",
        "def pair_distance(x_all,y_all):\n",
        "\n",
        "    k = 0\n",
        "    dist_avg = 0\n",
        "\n",
        "    for i in range (0,N-1):\n",
        "        for j in range (i+1,N):\n",
        "            xr = x_all[i] - x_all[j]\n",
        "            xr = xr - box*np.round(xr/box)\n",
        "            yr = y_all[i] - y_all[j]\n",
        "            yr = yr - box*np.round(yr/box)\n",
        "            r = np.sqrt(xr*xr + yr*yr)\n",
        "            dist_avg = dist_avg + r\n",
        "            k = k+1\n",
        "\n",
        "    dist_avg = dist_avg/k\n",
        "\n",
        "    return(dist_avg)\n"
      ],
      "metadata": {
        "id": "rC5m6VstNcz7"
      },
      "execution_count": 83,
      "outputs": []
    },
    {
      "cell_type": "code",
      "source": [
        "def init():\n",
        "\n",
        "    x = [0.0]*N\n",
        "    y = [0.0]*N\n",
        "    xm = [0.0]*N\n",
        "    ym = [0.0]*N\n",
        "\n",
        "    vx = [0.0]*N\n",
        "    vy = [0.0]*N\n",
        "    sumv2 = 0\n",
        "    dt = 0.01\n",
        "\n",
        "\n",
        "    x[0] = 0.25*box\n",
        "    x[1] = 0.25*box\n",
        "    x[2] = 0.75*box\n",
        "    x[3] = 0.75*box\n",
        "    y[0] = 0.25*box\n",
        "    y[1] = 0.75*box\n",
        "    y[2] = 0.25*box\n",
        "    y[3] = 0.75*box\n",
        "\n",
        "    xm[0] = x[0] + (np.random.rand()-0.5)*0.01\n",
        "    xm[1] = x[1] + (np.random.rand()-0.5)*0.01\n",
        "    xm[2] = x[2] + (np.random.rand()-0.5)*0.01\n",
        "    xm[3] = x[3] + (np.random.rand()-0.5)*0.01\n",
        "    ym[0] = y[0] + (np.random.rand()-0.5)*0.01\n",
        "    ym[1] = y[1] + (np.random.rand()-0.5)*0.01\n",
        "    ym[2] = y[2] + (np.random.rand()-0.5)*0.01\n",
        "    ym[3] = y[3] + (np.random.rand()-0.5)*0.01\n",
        "\n",
        "    vx[0] = -1*(xm[0]-x[0])/dt\n",
        "    vx[1] = -1*(xm[1]-x[1])/dt\n",
        "    vx[2] = -1*(xm[2]-x[2])/dt\n",
        "    vx[3] = -1*(xm[3]-x[3])/dt\n",
        "    vy[0] = -1*(ym[0]-y[0])/dt\n",
        "    vy[1] = -1*(ym[1]-y[1])/dt\n",
        "    vy[2] = -1*(ym[2]-y[2])/dt\n",
        "    vy[3] = -1*(ym[3]-y[3])/dt\n",
        "\n",
        "    sumv2 = vx[0]*vx[0] + vy[0]*vy[0] + vx[1]*vx[1] + vy[1]*vy[1] + vx[2]*vx[2] + vy[2]*vy[2] + vx[3]*vx[3] + vy[3]*vy[3]\n",
        "\n",
        "    PE_start, fx, fy = force(x,y)\n",
        "    KE_start = 0.5*sumv2*m\n",
        "\n",
        "    return(x, y, vx, vy, xm, ym, PE_start, KE_start)\n"
      ],
      "metadata": {
        "id": "QoBQEU31Np2f"
      },
      "execution_count": 84,
      "outputs": []
    },
    {
      "cell_type": "code",
      "source": [
        "x, y, vx, vy, xm, ym, PE_start, KE_start = init()"
      ],
      "metadata": {
        "id": "KTbkwir3POyY"
      },
      "execution_count": 85,
      "outputs": []
    },
    {
      "cell_type": "code",
      "source": [
        "KE_start"
      ],
      "metadata": {
        "colab": {
          "base_uri": "https://localhost:8080/"
        },
        "id": "1FQVZXl8PXXC",
        "outputId": "4f7138ac-4108-41e6-9256-aa01b17d313e"
      },
      "execution_count": 87,
      "outputs": [
        {
          "output_type": "execute_result",
          "data": {
            "text/plain": [
              "8.916803564317821e-05"
            ]
          },
          "metadata": {},
          "execution_count": 87
        }
      ]
    },
    {
      "cell_type": "code",
      "source": [
        "def integrate(en, forces_x, forces_y, x, xm, y, ym):\n",
        "\n",
        "    sumv2 = 0\n",
        "    vx = [0.0]*N\n",
        "    vy = [0.0]*N\n",
        "\n",
        "    for i in range(0,N):\n",
        "\n",
        "        xr = x[i] - xm[i]\n",
        "        xr = xr - box*np.round(xr/box)\n",
        "        xx = x[i] + xr + dt*dt*forces_x[i]/m\n",
        "        if xx >= 1.0:\n",
        "          xx = xx - int(xx)\n",
        "        if xx < 0.0:\n",
        "          xx = xx - int(xx) + 1\n",
        "\n",
        "        yr = y[i] - ym[i]\n",
        "        yr = yr - box*np.round(yr/box)\n",
        "        yy = y[i] + yr + dt*dt*forces_y[i]/m\n",
        "        if yy >= 1.0:\n",
        "          yy = yy - int(yy)\n",
        "        if yy < 0.0:\n",
        "          yy = yy - int(yy) + 1\n",
        "\n",
        "        xr = xx - xm[i]\n",
        "        xr = xr - box*np.round(xr/box)\n",
        "        vx[i] = xr/(2*dt)\n",
        "        yr = yy - ym[i]\n",
        "        yr = yr - box*np.round(yr/box)\n",
        "        vy[i] = yr/(2*dt)\n",
        "        sumv2 = sumv2 + vx[i]*vx[i] + vy[i]*vy[i]\n",
        "        xm[i] = x[i]\n",
        "        x[i] = xx\n",
        "        ym[i] = y[i]\n",
        "        y[i] = yy\n",
        "\n",
        "    Temp = sumv2/(3*N)\n",
        "    pot = en\n",
        "    kin = 0.5*sumv2*m\n",
        "    etot = pot + kin\n",
        "\n",
        "#    etot = (en + 0.5*sumv2)/N\n",
        "\n",
        "    return(Temp, pot, kin, etot, x, y)\n",
        "\n"
      ],
      "metadata": {
        "id": "aTiJU2rRPfgh"
      },
      "execution_count": 88,
      "outputs": []
    },
    {
      "cell_type": "code",
      "source": [
        "def sample(x,y):\n",
        "\n",
        "    return(pair_distance(x,y))\n"
      ],
      "metadata": {
        "id": "FrkZGK8RPvIl"
      },
      "execution_count": 89,
      "outputs": []
    },
    {
      "cell_type": "code",
      "source": [
        "def md(tmax,dt,nsamp):\n",
        "\n",
        "    x, y, vx, vy, xm, ym, pe_start, ke_start = init()\n",
        "    t = 0\n",
        "    steps = round(tmax/dt)\n",
        "    s = int(steps/nsamp)\n",
        "    times = [0.0]*s\n",
        "    PE = [0.0]*s\n",
        "    KE = [0.0]*s\n",
        "    TE = [0.0]*s\n",
        "    Temp = [0.0]*s\n",
        "    pair_dist = [0.0]*s\n",
        "\n",
        "    x_new = x\n",
        "    y_new = y\n",
        "    k = 0\n",
        "\n",
        "    for i in range(0,steps):\n",
        "        en, fx, fy = force(x_new,y_new)\n",
        "        T, pe, ke, te, x_new, y_new = integrate(en, fx, fy, x, xm, y, ym)\n",
        "        t = t+dt\n",
        "        if math.fmod(i, nsamp) == 0.0:\n",
        "            k = int(i/nsamp)\n",
        "            PE[k] = pe\n",
        "            KE[k] = ke\n",
        "            TE[k] = te\n",
        "            Temp[k] = T\n",
        "            times[k] = t\n",
        "            pair_dist[k] = sample(x_new,y_new)\n",
        "\n",
        "    plt.plot(times[:], PE[:], c = 'r')\n",
        "    plt.plot(times[:], KE[:], c = 'b')\n",
        "    plt.plot(times[:], TE[:], c = 'grey')\n",
        "#    plt.plot(times[:], Temp[:], c='k')\n",
        "#    plt.plot(times[:], pair_dist[:], c = 'g')\n",
        "\n",
        "    return(PE, KE, TE, x_new, y_new, pair_dist)\n",
        "\n"
      ],
      "metadata": {
        "id": "e84OFWG8P0jv"
      },
      "execution_count": 90,
      "outputs": []
    },
    {
      "cell_type": "code",
      "source": [
        "\n",
        "dt = 1e-4\n",
        "tmax = 2e-2\n",
        "nsamp = 10\n",
        "\n",
        "PE, KE, TE, x_final, y_final, pair_dist = md(tmax,dt,nsamp)\n"
      ],
      "metadata": {
        "colab": {
          "base_uri": "https://localhost:8080/",
          "height": 430
        },
        "id": "510I4Y6TQGnD",
        "outputId": "f6b91338-7190-4aab-974a-0ff3b57bda1a"
      },
      "execution_count": 91,
      "outputs": [
        {
          "output_type": "display_data",
          "data": {
            "text/plain": [
              "<Figure size 640x480 with 1 Axes>"
            ],
            "image/png": "[encoded data removed]"
          },
          "metadata": {}
        }
      ]
    },
    {
      "cell_type": "code",
      "source": [
        "force(x_final,y_final)"
      ],
      "metadata": {
        "colab": {
          "base_uri": "https://localhost:8080/"
        },
        "id": "u052pHk1RsKS",
        "outputId": "a46765ad-d1b8-4dde-8b43-3081028e7e31"
      },
      "execution_count": 92,
      "outputs": [
        {
          "output_type": "execute_result",
          "data": {
            "text/plain": [
              "(-2.4306613282845415,\n",
              " [-4.692855320904699,\n",
              "  -2.002459044200152,\n",
              "  0.6424286197503233,\n",
              "  6.052885745354527],\n",
              " [1.8710766986909806,\n",
              "  -3.2704071777603914,\n",
              "  -1.7162786949003546,\n",
              "  3.1156091739697653])"
            ]
          },
          "metadata": {},
          "execution_count": 92
        }
      ]
    },
    {
      "cell_type": "code",
      "source": [
        "for i in range(0,N):\n",
        "    plt.scatter(x_start[i],y_start[i],c='k')\n",
        "    plt.scatter(x_final[i],y_final[i],c='r')\n",
        "plt.show()\n"
      ],
      "metadata": {
        "colab": {
          "base_uri": "https://localhost:8080/",
          "height": 430
        },
        "id": "tslJloVDQqPO",
        "outputId": "af24322e-23a3-46af-dbab-a0586d4dd7d8"
      },
      "execution_count": 94,
      "outputs": [
        {
          "output_type": "display_data",
          "data": {
            "text/plain": [
              "<Figure size 640x480 with 1 Axes>"
            ],
            "image/png": "[encoded data removed]"
          },
          "metadata": {}
        }
      ]
    },
    {
      "cell_type": "code",
      "source": [
        "KE"
      ],
      "metadata": {
        "colab": {
          "base_uri": "https://localhost:8080/"
        },
        "id": "BhLWMIsuR8j_",
        "outputId": "f891bc13-05d9-4954-86c6-35c214b7a96a"
      },
      "execution_count": 93,
      "outputs": [
        {
          "output_type": "execute_result",
          "data": {
            "text/plain": [
              "[0.5506803624523162,\n",
              " 0.6371495517649343,\n",
              " 0.7515504615237376,\n",
              " 0.901887779596533,\n",
              " 1.1040911771999613,\n",
              " 1.3982990800610597,\n",
              " 2.2329944541473012,\n",
              " 64.44459650116752,\n",
              " 64.51616203070171,\n",
              " 64.1599371166987,\n",
              " 62.301308292369974,\n",
              " 61.18403381211678,\n",
              " 61.628692747124965,\n",
              " 67.36969808746969,\n",
              " 66.90980791280495,\n",
              " 67.79249301315951,\n",
              " 68.59931081599483,\n",
              " 68.62993326400142,\n",
              " 60.88828050094585,\n",
              " 59.833718998996396]"
            ]
          },
          "metadata": {},
          "execution_count": 93
        }
      ]
    }
  ]
}