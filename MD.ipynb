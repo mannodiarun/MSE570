{
  "cells": [
    {
      "cell_type": "code",
      "execution_count": 185,
      "metadata": {
        "id": "jodd3yPigJM3"
      },
      "outputs": [],
      "source": [
        "import numpy as np\n",
        "import math\n",
        "import matplotlib.pyplot as plt\n",
        "import copy"
      ],
      "id": "jodd3yPigJM3"
    },
    {
      "cell_type": "code",
      "execution_count": 186,
      "metadata": {
        "id": "PbpBxxf_gJM5"
      },
      "outputs": [],
      "source": [
        "N = 50\n",
        "x_all = [0.0]*N\n",
        "y_all = [0.0]*N\n",
        "box = 10  # Angstrom\n",
        "\n",
        "k=0\n",
        "for i in range (0,int(N/5)):\n",
        "    for j in range(0,int(N/10)):\n",
        "        x_all[k] = i*0.1*box + (np.random.rand()-0.5)*0.05*box\n",
        "        if math.fmod(i,2) == 0.0:\n",
        "#            y_all[k] = j*0.2*box + (np.random.rand()-0.5)*0.1\n",
        "            y_all[k] = j*0.2*box + (np.random.rand()-0.5)*0.05*box\n",
        "        else:\n",
        "#            y_all[k] = j*0.2*box + 0.1 + (np.random.rand()-0.5)*0.1\n",
        "            y_all[k] = j*0.2*box + 0.1*box + (np.random.rand()-0.5)*0.05*box\n",
        "        k=k+1\n",
        "\n",
        "x_start = [0.0]*N\n",
        "y_start = [0.0]*N\n",
        "for i in range (0,N):\n",
        "    x_start[i] = x_all[i]\n",
        "    y_start[i] = y_all[i]\n"
      ],
      "id": "PbpBxxf_gJM5"
    },
    {
      "cell_type": "code",
      "execution_count": 187,
      "metadata": {
        "colab": {
          "base_uri": "https://localhost:8080/",
          "height": 430
        },
        "id": "ocMmGOUdgJM5",
        "outputId": "9c18b8b4-fa83-46c1-a380-2d0ce6d24932"
      },
      "outputs": [
        {
          "output_type": "display_data",
          "data": {
            "text/plain": [
              "<Figure size 640x480 with 1 Axes>"
            ],
            "image/png": "[encoded data removed]"
          },
          "metadata": {}
        }
      ],
      "source": [
        "##  Visualize starting configuration  ##\n",
        "\n",
        "for i in range(0,N):\n",
        "    plt.scatter(x_start[i],y_start[i],c='k')\n",
        "plt.show()\n"
      ],
      "id": "ocMmGOUdgJM5"
    },
    {
      "cell_type": "code",
      "execution_count": 189,
      "metadata": {
        "id": "25uGkElDgJM6"
      },
      "outputs": [],
      "source": [
        "###  Use this for Simple Pairwise Potential  ##\n",
        "\n",
        "def force(x_all,y_all):\n",
        "\n",
        "    en = 0\n",
        "    c = -1E-26/N  # Joules.Angstrom\n",
        "    rc = 5  # Angstrom\n",
        "    forces_x = [0.0]*N\n",
        "    forces_y = [0.0]*N\n",
        "\n",
        "    for i in range (0,N-1):\n",
        "        for j in range (i+1,N):\n",
        "            xr = x_all[i] - x_all[j]\n",
        "            xr = xr - box*np.round(xr/box)\n",
        "            yr = y_all[i] - y_all[j]\n",
        "            yr = yr - box*np.round(yr/box)\n",
        "            r = np.sqrt(xr*xr + yr*yr)\n",
        "            if r <= rc:\n",
        "                ff = (c/(r*r))*1E10  # converting to J/m\n",
        "                forces_x[i] = forces_x[i] + ff*(xr/r)\n",
        "                forces_x[j] = forces_x[j] - ff*(xr/r)\n",
        "                forces_y[i] = forces_y[i] + ff*(yr/r)\n",
        "                forces_y[j] = forces_y[j] - ff*(yr/r)\n",
        "                en = en + c/r\n",
        "\n",
        "    return(en,forces_x,forces_y)\n"
      ],
      "id": "25uGkElDgJM6"
    },
    {
      "cell_type": "code",
      "execution_count": 190,
      "metadata": {
        "id": "tw7sr85TgJM6"
      },
      "outputs": [],
      "source": [
        "###  Use this for Calculating Average Pairwise Distances  ##\n",
        "\n",
        "def pair_distance(x_all,y_all):\n",
        "\n",
        "    k = 0\n",
        "    dist_avg = 0\n",
        "\n",
        "    for i in range (0,N-1):\n",
        "        for j in range (i+1,N):\n",
        "            xr = x_all[i] - x_all[j]\n",
        "            xr = xr - box*np.round(xr/box)\n",
        "            yr = y_all[i] - y_all[j]\n",
        "            yr = yr - box*np.round(yr/box)\n",
        "            r = np.sqrt(xr*xr + yr*yr)\n",
        "            dist_avg = dist_avg + r\n",
        "            k = k+1\n",
        "\n",
        "    dist_avg = dist_avg/k\n",
        "\n",
        "    return(dist_avg)\n"
      ],
      "id": "tw7sr85TgJM6"
    },
    {
      "cell_type": "code",
      "execution_count": 191,
      "metadata": {
        "id": "YMV8H1VHgJM7"
      },
      "outputs": [],
      "source": [
        "##  Define MD Parameters  ##\n",
        "\n",
        "Temp_start = 300  # Kelvin\n",
        "m = 4.48E-26  # kg\n",
        "dt = 1e-12  # seconds\n",
        "kB = 1.380649E-23  # J/K\n"
      ],
      "id": "YMV8H1VHgJM7"
    },
    {
      "cell_type": "code",
      "execution_count": 192,
      "metadata": {
        "id": "mZBi3QltgJM7"
      },
      "outputs": [],
      "source": [
        "def init():\n",
        "\n",
        "    x = [0.0]*N\n",
        "    y = [0.0]*N\n",
        "    xm = [0.0]*N\n",
        "    ym = [0.0]*N\n",
        "\n",
        "    vx = [0.0]*N\n",
        "    vy = [0.0]*N\n",
        "    sumvx = 0\n",
        "    sumvy = 0\n",
        "    sumv2 = 0\n",
        "\n",
        "    k = 0\n",
        "    for i in range (0,int(N/5)):\n",
        "        for j in range(0,int(N/10)):\n",
        "            x[k] = i*0.1*box + (np.random.rand()-0.5)*0.05*box\n",
        "            if math.fmod(i,2) == 0.0:\n",
        "                y[k] = j*0.2*box + (np.random.rand()-0.5)*0.05*box\n",
        "            else:\n",
        "                y[k] = j*0.2*box + 0.1*box + (np.random.rand()-0.5)*0.05*box\n",
        "            k=k+1\n",
        "\n",
        "    k = 0\n",
        "    for i in range (0,int(N/5)):\n",
        "        for j in range(0,int(N/10)):\n",
        "            xm[k] = i*0.1*box + (np.random.rand()-0.5)*0.01*box\n",
        "            if xm[k] >= box:\n",
        "                xm[k] = xm[k] - int(xm[k])\n",
        "            if xm[k] < 0.0:\n",
        "                xm[k] = xm[k] - int(xm[k]) + box\n",
        "            if math.fmod(i,2) == 0.0:\n",
        "                ym[k] = j*0.2*box + (np.random.rand()-0.5)*0.01*box\n",
        "            else:\n",
        "                ym[k] = j*0.2*box + 0.1*box + (np.random.rand()-0.5)*0.01*box\n",
        "            if ym[k] >= box:\n",
        "                ym[k] = ym[k] - int(ym[k])\n",
        "            if ym[k] < 0.0:\n",
        "                ym[k] = ym[k] - int(ym[k]) + box\n",
        "            k=k+1\n",
        "\n",
        "    for i in range(0,N):\n",
        "        xr = x[i] - xm[i]\n",
        "        xr = xr - box*np.round(xr/box)\n",
        "        vx[i] = (xr/dt)*1E-10  # m/s\n",
        "        yr = y[i] - ym[i]\n",
        "        yr = yr - box*np.round(yr/box)\n",
        "        vy[i] = (yr/dt)*1E-10  # m/s\n",
        "\n",
        "\n",
        "    for i in range(0,N):\n",
        "        sumvx = sumvx + vx[i]\n",
        "        sumvy = sumvy + vy[i]\n",
        "        sumv2 = sumv2 + vx[i]*vx[i] + vy[i]*vy[i]\n",
        "\n",
        "    sumvx = sumvx/N\n",
        "    sumvy = sumvy/N\n",
        "    sumv2 = sumv2/(2*N)\n",
        "\n",
        "    fs = np.sqrt(2*kB*Temp_start/(m*sumv2))\n",
        "    sumv2 = 0\n",
        "\n",
        "    for i in range(0,N):\n",
        "        vx[i] = (vx[i] - sumvx)*fs\n",
        "        vy[i] = (vy[i] - sumvy)*fs\n",
        "        sumv2 = sumv2 + vx[i]*vx[i] + vy[i]*vy[i]\n",
        "        xm[i] = x[i] - vx[i]*dt\n",
        "        ym[i] = y[i] - vy[i]*dt\n",
        "\n",
        "    PE_start, fx, fy = force(x,y)\n",
        "    KE_start = (0.5*sumv2*m)/(2*N)\n",
        "    Temp = KE_start/kB\n",
        "\n",
        "    return(x, y, vx, vy, xm, ym, PE_start, KE_start, Temp)\n"
      ],
      "id": "mZBi3QltgJM7"
    },
    {
      "cell_type": "code",
      "source": [
        "x, y, vx, vy, xm, ym, PE_start, KE_start, Temp = init()"
      ],
      "metadata": {
        "id": "pSk1gManHC1B"
      },
      "id": "pSk1gManHC1B",
      "execution_count": 193,
      "outputs": []
    },
    {
      "cell_type": "code",
      "source": [
        "Temp_start"
      ],
      "metadata": {
        "colab": {
          "base_uri": "https://localhost:8080/"
        },
        "id": "mDU_OMY5HHZU",
        "outputId": "cecb2d46-7c55-4025-96b5-192b0e27437c"
      },
      "id": "mDU_OMY5HHZU",
      "execution_count": 194,
      "outputs": [
        {
          "output_type": "execute_result",
          "data": {
            "text/plain": [
              "300"
            ]
          },
          "metadata": {},
          "execution_count": 194
        }
      ]
    },
    {
      "cell_type": "code",
      "source": [
        "Temp"
      ],
      "metadata": {
        "colab": {
          "base_uri": "https://localhost:8080/"
        },
        "id": "Zrzomz8MXi_2",
        "outputId": "4327b54b-5ac4-401a-ab8d-91007fde8be0"
      },
      "id": "Zrzomz8MXi_2",
      "execution_count": 195,
      "outputs": [
        {
          "output_type": "execute_result",
          "data": {
            "text/plain": [
              "299.4227143624126"
            ]
          },
          "metadata": {},
          "execution_count": 195
        }
      ]
    },
    {
      "cell_type": "code",
      "execution_count": 242,
      "metadata": {
        "id": "UJq0IRWDgJM7"
      },
      "outputs": [],
      "source": [
        "def integrate(en, forces_x, forces_y, x, xm, y, ym):\n",
        "\n",
        "    sumvx = 0\n",
        "    sumvy = 0\n",
        "    sumv2 = 0\n",
        "    vx = [0.0]*N\n",
        "    vy = [0.0]*N\n",
        "\n",
        "    for i in range(0,N):\n",
        "\n",
        "        xr = x[i] - xm[i]\n",
        "        xr = xr - box*np.round(xr/box)\n",
        "        xx = x[i] + xr + (dt*dt*forces_x[i]/m)*1E10\n",
        "        if xx >= box:\n",
        "          xx = xx - int(xx)\n",
        "        if xx < 0.0:\n",
        "          xx = xx - int(xx) + box\n",
        "\n",
        "        yr = y[i] - ym[i]\n",
        "        yr = yr - box*np.round(yr/box)\n",
        "        yy = y[i] + yr + (dt*dt*forces_y[i]/m)*1E10\n",
        "        if yy >= box:\n",
        "          yy = yy - int(yy)\n",
        "        if yy < 0.0:\n",
        "          yy = yy - int(yy) + box\n",
        "\n",
        "        xr = xx - xm[i]\n",
        "        xr = xr - box*np.round(xr/box)\n",
        "        vx[i] = (xr/(2*dt))*1E-10  # m/s\n",
        "        yr = yy - ym[i]\n",
        "        yr = yr - box*np.round(yr/box)\n",
        "        vy[i] = (yr/(2*dt))*1E-10  # m/s\n",
        "        sumvx = sumvx + vx[i]\n",
        "        sumvy = sumvy + vy[i]\n",
        "        sumv2 = sumv2 + vx[i]*vx[i] + vy[i]*vy[i]\n",
        "        xm[i] = x[i]\n",
        "        x[i] = xx\n",
        "        ym[i] = y[i]\n",
        "        y[i] = yy\n",
        "\n",
        "    pot = en\n",
        "    kin = (0.5*sumv2*m)/(2*N)\n",
        "    etot = pot + kin\n",
        "    Temp = kin/kB\n",
        "\n",
        "#    etot = (en + 0.5*sumv2)/N\n",
        "\n",
        "    return(Temp, pot, kin, etot, x, y, xm, ym)\n",
        "\n"
      ],
      "id": "UJq0IRWDgJM7"
    },
    {
      "cell_type": "code",
      "execution_count": 243,
      "metadata": {
        "id": "-02S_ZWugJM7"
      },
      "outputs": [],
      "source": [
        "def sample(x,y):\n",
        "\n",
        "    return(pair_distance(x,y))\n"
      ],
      "id": "-02S_ZWugJM7"
    },
    {
      "cell_type": "code",
      "execution_count": 244,
      "metadata": {
        "id": "QtCFgqsqgJM8"
      },
      "outputs": [],
      "source": [
        "def md(tmax,dt,nsamp):\n",
        "\n",
        "    x, y, vx, vy, xm, ym, pe_start, ke_start, temp_start = init()\n",
        "    t = 0\n",
        "    steps = round(tmax/dt)\n",
        "    s = int(steps/nsamp)\n",
        "    times = [0.0]*s\n",
        "    PE = [0.0]*s\n",
        "    KE = [0.0]*s\n",
        "    TE = [0.0]*s\n",
        "    Temp = [0.0]*s\n",
        "    pair_dist = [0.0]*s\n",
        "    k = 0\n",
        "    x_start = copy.deepcopy(x)\n",
        "    y_start = copy.deepcopy(y)\n",
        "\n",
        "    for i in range(0,steps):\n",
        "        en, fx, fy = force(x,y)\n",
        "        T, pe, ke, te, x, y, xm, ym = integrate(en, fx, fy, x, xm, y, ym)\n",
        "        t = t+dt\n",
        "        if math.fmod(i, nsamp) == 0.0:\n",
        "            k = int(i/nsamp)\n",
        "            PE[k] = pe\n",
        "            KE[k] = ke\n",
        "            TE[k] = te\n",
        "            Temp[k] = T\n",
        "            times[k] = t\n",
        "            pair_dist[k] = sample(x,y)\n",
        "        # xm = copy.deepcopy(xm_new)\n",
        "        # ym = copy.deepcopy(ym_new)\n",
        "        # x = copy.deepcopy(x_new)\n",
        "        # y = copy.deepcopy(y_new)\n",
        "\n",
        "#     plt.plot(times[:], PE[:], c = 'r')\n",
        "#     plt.plot(times[:], KE[:], c = 'b')\n",
        "#     plt.plot(times[:], TE[:], c = 'grey')\n",
        "#     plt.plot(times[:], Temp[:], c='k')\n",
        "#     plt.plot(times[:], pair_dist[:], c = 'g')\n",
        "\n",
        "    return(PE, KE, TE, Temp, x_start, y_start, x, y, pair_dist, times)\n",
        "\n"
      ],
      "id": "QtCFgqsqgJM8"
    },
    {
      "cell_type": "code",
      "execution_count": 245,
      "metadata": {
        "id": "BfFNXBj8gJM8"
      },
      "outputs": [],
      "source": [
        "tmax = 5e-9 # seconds\n",
        "dt = 1e-12  # seconds\n",
        "nsamp = 10\n",
        "\n",
        "PE, KE, TE, Temp, x_start, y_start, x_final, y_final, pair_dist, times = md(tmax,dt,nsamp)\n"
      ],
      "id": "BfFNXBj8gJM8"
    },
    {
      "cell_type": "code",
      "source": [
        "for i in range(0,len(times)):\n",
        "    PE[i] = PE[i]*1e26\n",
        "    KE[i] = KE[i]*1e26\n",
        "    TE[i] = TE[i]*1e26\n",
        "\n",
        "plt.plot(times[:], PE[:], c = 'r')\n",
        "plt.plot(times[:], KE[:], c = 'b')\n",
        "plt.plot(times[:], TE[:], c = 'grey')\n"
      ],
      "metadata": {
        "colab": {
          "base_uri": "https://localhost:8080/",
          "height": 465
        },
        "id": "wQSjg-NuqY2I",
        "outputId": "e2b2428e-cd5b-4677-d4fd-2f01790207f1"
      },
      "id": "wQSjg-NuqY2I",
      "execution_count": 246,
      "outputs": [
        {
          "output_type": "execute_result",
          "data": {
            "text/plain": [
              "[<matplotlib.lines.Line2D at 0x7d85fdf0c690>]"
            ]
          },
          "metadata": {},
          "execution_count": 246
        },
        {
          "output_type": "display_data",
          "data": {
            "text/plain": [
              "<Figure size 640x480 with 1 Axes>"
            ],
            "image/png": "[encoded data removed]"
          },
          "metadata": {}
        }
      ]
    },
    {
      "cell_type": "code",
      "source": [
        "plt.plot(times[:], Temp[:], c='k')\n"
      ],
      "metadata": {
        "colab": {
          "base_uri": "https://localhost:8080/",
          "height": 465
        },
        "id": "y5IdDTZeqOJI",
        "outputId": "9e40cb08-1f17-4a5d-b6a4-14efce249a9d"
      },
      "id": "y5IdDTZeqOJI",
      "execution_count": 247,
      "outputs": [
        {
          "output_type": "execute_result",
          "data": {
            "text/plain": [
              "[<matplotlib.lines.Line2D at 0x7d85fcf96b50>]"
            ]
          },
          "metadata": {},
          "execution_count": 247
        },
        {
          "output_type": "display_data",
          "data": {
            "text/plain": [
              "<Figure size 640x480 with 1 Axes>"
            ],
            "image/png": "[encoded data removed]"
          },
          "metadata": {}
        }
      ]
    },
    {
      "cell_type": "code",
      "execution_count": 249,
      "metadata": {
        "colab": {
          "base_uri": "https://localhost:8080/",
          "height": 431
        },
        "id": "vKG-hrS8gJM8",
        "outputId": "e27e12d6-91e1-4d93-9b53-2c0831fa73f4"
      },
      "outputs": [
        {
          "output_type": "display_data",
          "data": {
            "text/plain": [
              "<Figure size 640x480 with 1 Axes>"
            ],
            "image/png": "[encoded data removed]"
          },
          "metadata": {}
        }
      ],
      "source": [
        "for i in range(0,N):\n",
        "    plt.scatter(x_start[i],y_start[i],c='k')\n",
        "    plt.scatter(x_final[i],y_final[i],c='r')\n",
        "plt.show()\n"
      ],
      "id": "vKG-hrS8gJM8"
    },
    {
      "cell_type": "code",
      "source": [
        "## Run this cell only for Anderson thermostat (to keep temp fixed) ##\n",
        "\n",
        "def integrate(switch, en, forces_x, forces_y, x, y, vx, vy, temp):\n",
        "\n",
        "    sumv2 = 0\n",
        "    vx = [0.0]*N\n",
        "    vy = [0.0]*N\n",
        "    nu = 5\n",
        "    Temp = 0\n",
        "\n",
        "\n",
        "    if switch == 1:\n",
        "\n",
        "        for i in range(0,N):\n",
        "\n",
        "            xx = x[i] + vx[i]*(1E10)*dt + dt*dt*forces_x[i]*(1E10)/(2*m)\n",
        "            if xx >= box:\n",
        "              xx = xx - int(xx)\n",
        "            if xx < 0.0:\n",
        "              xx = xx - int(xx) + box\n",
        "            x[i] = copy.deepcopy(xx)\n",
        "            vx[i] = vx[i] + dt*forces_x[i]/(2*m)\n",
        "\n",
        "            yy = y[i] + vy[i]*(1E10)*dt + dt*dt*forces_y[i]*(1E10)/(2*m)\n",
        "            if yy >= box:\n",
        "              yy = yy - int(yy)\n",
        "            if yy < 0.0:\n",
        "              yy = yy - int(yy) + box\n",
        "            y[i] = copy.deepcopy(yy)\n",
        "            vy[i] = vy[i] + dt*forces_y[i]/(2*m)\n",
        "\n",
        "\n",
        "    elif switch == 2:\n",
        "\n",
        "        tempa = 0\n",
        "\n",
        "        for i in range(0,N):\n",
        "            vx[i] = vx[i] + dt*forces_x[i]/(2*m)\n",
        "            vy[i] = vy[i] + dt*forces_y[i]/(2*m)\n",
        "            tempa = tempa + ((vx[i]*vx[i]+vy[i]*vy[i])*m)/kB\n",
        "        tempa = tempa/(2*N)\n",
        "        sigma = np.sqrt(2*kB*temp/m)\n",
        "        for i in range(0,N):\n",
        "            if np.random.rand() < nu*dt:\n",
        "                samples = np.random.normal(loc=0, scale=sigma, size=1000)\n",
        "                vx[i] = samples[np.random.randint(0,1000)]\n",
        "                vy[i] = samples[np.random.randint(0,1000)]\n",
        "\n",
        "        Temp = copy.deepcopy(tempa)\n",
        "\n",
        "    sumv2 = sumv2 + vx[i]*vx[i] + vy[i]*vy[i]\n",
        "\n",
        "    pot = en\n",
        "    kin = (0.5*sumv2*m)/(2*N)\n",
        "    etot = pot + kin\n",
        "#    Temp = kin/kB\n",
        "\n",
        "#    etot = (en + 0.5*sumv2)/N\n",
        "\n",
        "    return(Temp, pot, kin, etot, x, y)\n",
        "\n"
      ],
      "metadata": {
        "id": "wFST84HxkbA7"
      },
      "id": "wFST84HxkbA7",
      "execution_count": 274,
      "outputs": []
    },
    {
      "cell_type": "code",
      "source": [
        "sigma = np.sqrt(2*kB*Temp_start/m)\n",
        "\n",
        "samples = np.random.normal(loc=0, scale=sigma, size=10)\n"
      ],
      "metadata": {
        "id": "pBjE0BoDyxfs"
      },
      "id": "pBjE0BoDyxfs",
      "execution_count": 270,
      "outputs": []
    },
    {
      "cell_type": "code",
      "source": [
        "Temp_start"
      ],
      "metadata": {
        "id": "YzEMCNbOy6Jr",
        "outputId": "7067c4f8-0f9d-400d-f48d-5bbf2d1a237c",
        "colab": {
          "base_uri": "https://localhost:8080/"
        }
      },
      "id": "YzEMCNbOy6Jr",
      "execution_count": 273,
      "outputs": [
        {
          "output_type": "execute_result",
          "data": {
            "text/plain": [
              "300"
            ]
          },
          "metadata": {},
          "execution_count": 273
        }
      ]
    },
    {
      "cell_type": "code",
      "source": [
        "## Example of Gaussian distribution ##\n",
        "\n",
        "import numpy as np\n",
        "\n",
        "sigma = 2.5  # Set the desired sigma value\n",
        "samples = np.random.normal(loc=0, scale=sigma, size=1000)\n",
        "\n",
        "# Print some of the samples\n",
        "print(samples[:10])\n",
        "\n",
        "plt.hist(samples, bins=50)\n",
        "plt.show()"
      ],
      "metadata": {
        "id": "p3VHP6Hwkb0w"
      },
      "id": "p3VHP6Hwkb0w",
      "execution_count": null,
      "outputs": []
    },
    {
      "cell_type": "code",
      "source": [
        "def md_anderson(tmax,dt,nsamp,T):\n",
        "\n",
        "    x, y, vx, vy, xm, ym, pe_start, ke_start, temp_start = init()\n",
        "    en, fx, fy = force(x,y)\n",
        "    t = 0\n",
        "    steps = round(tmax/dt)\n",
        "    s = int(steps/nsamp)\n",
        "    times = [0.0]*s\n",
        "    PE = [0.0]*s\n",
        "    KE = [0.0]*s\n",
        "    TE = [0.0]*s\n",
        "    Temp = [0.0]*s\n",
        "    pair_dist = [0.0]*s\n",
        "\n",
        "    x_start = x\n",
        "    y_start = y\n",
        "    k = 0\n",
        "\n",
        "    for i in range(0,steps):\n",
        "        T, pe, ke, te, x, y = integrate(1, en, fx, fy, x, y, vx, vy, T)\n",
        "        en, fx, fy = force(x,y)\n",
        "        T, pe, ke, te, x, y = integrate(2, en, fx, fy, x, y, vx, vy, T)\n",
        "        t = t+dt\n",
        "        if math.fmod(i, nsamp) == 0.0:\n",
        "            k = int(i/nsamp)\n",
        "            PE[k] = pe\n",
        "            KE[k] = ke\n",
        "            TE[k] = te\n",
        "            Temp[k] = T\n",
        "            times[k] = t\n",
        "            pair_dist[k] = sample(x,y)\n",
        "\n",
        "    return(PE, KE, TE, Temp, x_start, y_start, x, y, pair_dist, times)\n"
      ],
      "metadata": {
        "id": "uLTnE17PkkBQ"
      },
      "id": "uLTnE17PkkBQ",
      "execution_count": 275,
      "outputs": []
    },
    {
      "cell_type": "code",
      "source": [
        "Temp_hold = 300  # Kelvin\n",
        "tmax = 1e-9 # seconds\n",
        "dt = 1e-12  # seconds\n",
        "nsamp = 10\n",
        "\n",
        "PE, KE, TE, Temp, x_start, y_start, x_final, y_final, pair_dist, times = md_anderson(tmax,dt,nsamp,Temp_hold)\n"
      ],
      "metadata": {
        "id": "lZnLhPcmvZZe"
      },
      "id": "lZnLhPcmvZZe",
      "execution_count": 276,
      "outputs": []
    },
    {
      "cell_type": "code",
      "source": [
        "for i in range(0,len(times)):\n",
        "    PE[i] = PE[i]*1e26\n",
        "    KE[i] = KE[i]*1e26\n",
        "    TE[i] = TE[i]*1e26\n",
        "\n",
        "plt.plot(times[:], PE[:], c = 'r')\n",
        "plt.plot(times[:], KE[:], c = 'b')\n",
        "plt.plot(times[:], TE[:], c = 'grey')\n"
      ],
      "metadata": {
        "id": "Urbj_D-MvuFd",
        "outputId": "fdad88bc-035b-4df1-c8ea-7c500bcce2cb",
        "colab": {
          "base_uri": "https://localhost:8080/",
          "height": 465
        }
      },
      "id": "Urbj_D-MvuFd",
      "execution_count": 277,
      "outputs": [
        {
          "output_type": "execute_result",
          "data": {
            "text/plain": [
              "[<matplotlib.lines.Line2D at 0x7d85fe260190>]"
            ]
          },
          "metadata": {},
          "execution_count": 277
        },
        {
          "output_type": "display_data",
          "data": {
            "text/plain": [
              "<Figure size 640x480 with 1 Axes>"
            ],
            "image/png": "[encoded data removed]"
          },
          "metadata": {}
        }
      ]
    },
    {
      "cell_type": "code",
      "source": [
        "plt.plot(times[:], Temp[:], c='k')\n"
      ],
      "metadata": {
        "id": "XxeD1Iobvwv5",
        "outputId": "6aca27bb-7e92-4357-84de-a235aea40ea1",
        "colab": {
          "base_uri": "https://localhost:8080/",
          "height": 480
        }
      },
      "id": "XxeD1Iobvwv5",
      "execution_count": 278,
      "outputs": [
        {
          "output_type": "execute_result",
          "data": {
            "text/plain": [
              "[<matplotlib.lines.Line2D at 0x7d85fcf95fd0>]"
            ]
          },
          "metadata": {},
          "execution_count": 278
        },
        {
          "output_type": "display_data",
          "data": {
            "text/plain": [
              "<Figure size 640x480 with 1 Axes>"
            ],
            "image/png": "[encoded data removed]"
          },
          "metadata": {}
        }
      ]
    },
    {
      "cell_type": "code",
      "source": [
        "for i in range(0,N):\n",
        "    plt.scatter(x_start[i],y_start[i],c='k')\n",
        "    plt.scatter(x_final[i],y_final[i],c='r')\n",
        "plt.show()\n"
      ],
      "metadata": {
        "id": "0TjYoHqZvucF",
        "outputId": "710f0936-b71c-46db-d0e4-5557ee35faf7",
        "colab": {
          "base_uri": "https://localhost:8080/",
          "height": 430
        }
      },
      "id": "0TjYoHqZvucF",
      "execution_count": 264,
      "outputs": [
        {
          "output_type": "display_data",
          "data": {
            "text/plain": [
              "<Figure size 640x480 with 1 Axes>"
            ],
            "image/png": "[encoded data removed]"
          },
          "metadata": {}
        }
      ]
    },
    {
      "cell_type": "code",
      "source": [],
      "metadata": {
        "id": "DraYmLPrxlAA"
      },
      "id": "DraYmLPrxlAA",
      "execution_count": null,
      "outputs": []
    },
    {
      "cell_type": "code",
      "source": [
        "###  Use this for Lennard Jones Potential  ##\n",
        "###  (https://en.wikipedia.org/wiki/Lennard-Jones_potential)\n",
        "\n",
        "def force(x_all,y_all):\n",
        "\n",
        "    en = 0\n",
        "    forces_x = [0.0]*N\n",
        "    forces_y = [0.0]*N\n",
        "    rc = 0.2\n",
        "    eps = 1e-42\n",
        "\n",
        "    for i in range (0,N-1):\n",
        "        for j in range (i+1,N):\n",
        "            xr = x_all[i] - x_all[j]\n",
        "            xr = xr - box*np.round(xr/box)\n",
        "            yr = y_all[i] - y_all[j]\n",
        "            yr = yr - box*np.round(yr/box)\n",
        "\n",
        "            r2 = xr*xr + yr*yr\n",
        "\n",
        "            if r2 <= rc*rc:\n",
        "                r2i = 1/r2\n",
        "                r6i = np.power(r2i,3)\n",
        "                ff = 48*eps*r2i*r6i*(r6i-0.5)\n",
        "                forces_x[i] = forces_x[i] + ff*xr\n",
        "                forces_x[j] = forces_x[j] - ff*xr\n",
        "                forces_y[i] = forces_y[i] + ff*yr\n",
        "                forces_y[j] = forces_y[j] - ff*yr\n",
        "                en = (en + 4*eps*r6i*(r6i-1))\n",
        "\n",
        "    return(en,forces_x,forces_y)\n"
      ],
      "metadata": {
        "id": "4CJ2x1F3kqx1"
      },
      "id": "4CJ2x1F3kqx1",
      "execution_count": null,
      "outputs": []
    }
  ],
  "metadata": {
    "kernelspec": {
      "display_name": "Python 3",
      "language": "python",
      "name": "python3"
    },
    "language_info": {
      "codemirror_mode": {
        "name": "ipython",
        "version": 3
      },
      "file_extension": ".py",
      "mimetype": "text/x-python",
      "name": "python",
      "nbconvert_exporter": "python",
      "pygments_lexer": "ipython3",
      "version": "3.8.5"
    },
    "colab": {
      "provenance": []
    }
  },
  "nbformat": 4,
  "nbformat_minor": 5
}