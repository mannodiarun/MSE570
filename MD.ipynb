{
  "cells": [
    {
      "cell_type": "code",
      "execution_count": 1,
      "metadata": {
        "id": "jodd3yPigJM3"
      },
      "outputs": [],
      "source": [
        "import numpy as np\n",
        "import math\n",
        "import matplotlib.pyplot as plt"
      ],
      "id": "jodd3yPigJM3"
    },
    {
      "cell_type": "code",
      "execution_count": 2,
      "metadata": {
        "id": "PbpBxxf_gJM5"
      },
      "outputs": [],
      "source": [
        "N = 50\n",
        "x_all = [0.0]*N\n",
        "y_all = [0.0]*N\n",
        "box = 1\n",
        "\n",
        "k=0\n",
        "for i in range (0,int(N/5)):\n",
        "    for j in range(0,int(N/10)):\n",
        "        x_all[k] = i*0.1*box\n",
        "        if math.fmod(i,2) == 0.0:\n",
        "#            y_all[k] = j*0.2*box + (np.random.rand()-0.5)*0.1\n",
        "            y_all[k] = j*0.2*box\n",
        "        else:\n",
        "#            y_all[k] = j*0.2*box + 0.1 + (np.random.rand()-0.5)*0.1\n",
        "            y_all[k] = j*0.2*box + 0.1\n",
        "        k=k+1\n",
        "\n",
        "x_start = [0.0]*N\n",
        "y_start = [0.0]*N\n",
        "for i in range (0,N):\n",
        "    x_start[i] = x_all[i]\n",
        "    y_start[i] = y_all[i]\n"
      ],
      "id": "PbpBxxf_gJM5"
    },
    {
      "cell_type": "code",
      "execution_count": 3,
      "metadata": {
        "colab": {
          "base_uri": "https://localhost:8080/",
          "height": 430
        },
        "id": "ocMmGOUdgJM5",
        "outputId": "9f35916d-4fbe-4848-e59f-0393fe0eb9dc"
      },
      "outputs": [
        {
          "output_type": "display_data",
          "data": {
            "text/plain": [
              "<Figure size 640x480 with 1 Axes>"
            ],
            "image/png": "[encoded data removed]"
          },
          "metadata": {}
        }
      ],
      "source": [
        "##  Visualize starting configuration  ##\n",
        "\n",
        "for i in range(0,N):\n",
        "    plt.scatter(x_start[i],y_start[i],c='k')\n",
        "plt.show()\n"
      ],
      "id": "ocMmGOUdgJM5"
    },
    {
      "cell_type": "code",
      "execution_count": 4,
      "metadata": {
        "id": "25uGkElDgJM6"
      },
      "outputs": [],
      "source": [
        "###  Use this for Simple Pairwise Potential  ##\n",
        "\n",
        "def force(x_all,y_all):\n",
        "\n",
        "    en = 0\n",
        "    c = -1/4000\n",
        "    rc = 0.2\n",
        "    forces_x = [0.0]*N\n",
        "    forces_y = [0.0]*N\n",
        "\n",
        "    for i in range (0,N-1):\n",
        "        for j in range (i+1,N):\n",
        "            xr = x_all[i] - x_all[j]\n",
        "            xr = xr - box*np.round(xr/box)\n",
        "            yr = y_all[i] - y_all[j]\n",
        "            yr = yr - box*np.round(yr/box)\n",
        "            r = np.sqrt(xr*xr + yr*yr)\n",
        "            if r <= rc:\n",
        "                ff = c/(r*r*r)\n",
        "                forces_x[i] = forces_x[i] + ff*xr\n",
        "                forces_x[j] = forces_x[j] - ff*xr\n",
        "                forces_y[i] = forces_y[i] + ff*yr\n",
        "                forces_y[j] = forces_y[j] - ff*yr\n",
        "                en = en + c/r\n",
        "\n",
        "    return(en,forces_x,forces_y)\n"
      ],
      "id": "25uGkElDgJM6"
    },
    {
      "cell_type": "code",
      "execution_count": null,
      "metadata": {
        "id": "GSzHNJQegJM6"
      },
      "outputs": [],
      "source": [
        "###  Use this for Lennard Jones Potential  ##\n",
        "###  (https://en.wikipedia.org/wiki/Lennard-Jones_potential)\n",
        "\n",
        "def force(x_all,y_all):\n",
        "\n",
        "    en = 0\n",
        "    forces_x = [0.0]*N\n",
        "    forces_y = [0.0]*N\n",
        "    rc = 0.2\n",
        "    eps = 1e-42\n",
        "\n",
        "    for i in range (0,N-1):\n",
        "        for j in range (i+1,N):\n",
        "            xr = x_all[i] - x_all[j]\n",
        "            xr = xr - box*np.round(xr/box)\n",
        "            yr = y_all[i] - y_all[j]\n",
        "            yr = yr - box*np.round(yr/box)\n",
        "\n",
        "            r2 = xr*xr + yr*yr\n",
        "\n",
        "            if r2 <= rc*rc:\n",
        "                r2i = 1/r2\n",
        "                r6i = np.power(r2i,3)\n",
        "                ff = 48*eps*r2i*r6i*(r6i-0.5)\n",
        "                forces_x[i] = forces_x[i] + ff*xr\n",
        "                forces_x[j] = forces_x[j] - ff*xr\n",
        "                forces_y[i] = forces_y[i] + ff*yr\n",
        "                forces_y[j] = forces_y[j] - ff*yr\n",
        "                en = (en + 4*eps*r6i*(r6i-1))\n",
        "\n",
        "    return(en,forces_x,forces_y)\n"
      ],
      "id": "GSzHNJQegJM6"
    },
    {
      "cell_type": "code",
      "execution_count": 5,
      "metadata": {
        "id": "tw7sr85TgJM6"
      },
      "outputs": [],
      "source": [
        "###  Use this for Calculating Average Pairwise Distances  ##\n",
        "\n",
        "def pair_distance(x_all,y_all):\n",
        "\n",
        "    k = 0\n",
        "    dist_avg = 0\n",
        "\n",
        "    for i in range (0,N-1):\n",
        "        for j in range (i+1,N):\n",
        "            xr = x_all[i] - x_all[j]\n",
        "            xr = xr - box*np.round(xr/box)\n",
        "            yr = y_all[i] - y_all[j]\n",
        "            yr = yr - box*np.round(yr/box)\n",
        "            r = np.sqrt(xr*xr + yr*yr)\n",
        "            dist_avg = dist_avg + r\n",
        "            k = k+1\n",
        "\n",
        "    dist_avg = dist_avg/k\n",
        "\n",
        "    return(dist_avg)\n"
      ],
      "id": "tw7sr85TgJM6"
    },
    {
      "cell_type": "code",
      "execution_count": 6,
      "metadata": {
        "id": "YMV8H1VHgJM7"
      },
      "outputs": [],
      "source": [
        "##  Define MD Parameters  ##\n",
        "\n",
        "Temp_start = 30\n",
        "dt = 1e-4\n",
        "tmax = 1e-2\n",
        "m = 1/2000\n"
      ],
      "id": "YMV8H1VHgJM7"
    },
    {
      "cell_type": "code",
      "execution_count": 7,
      "metadata": {
        "id": "mZBi3QltgJM7"
      },
      "outputs": [],
      "source": [
        "def init():\n",
        "\n",
        "    x = [0.0]*N\n",
        "    y = [0.0]*N\n",
        "    xm = [0.0]*N\n",
        "    ym = [0.0]*N\n",
        "\n",
        "    vx = [0.0]*N\n",
        "    vy = [0.0]*N\n",
        "#    sumvx = 0\n",
        "#    sumvy = 0\n",
        "    sumv2 = 0\n",
        "\n",
        "    k = 0\n",
        "    for i in range (0,int(N/5)):\n",
        "        for j in range(0,int(N/10)):\n",
        "            x[k] = i*0.1*box\n",
        "#            x[k] = i*0.1*box + (np.random.rand()-0.5)*5e-5\n",
        "            if math.fmod(i,2) == 0.0:\n",
        "                y[k] = j*0.2*box\n",
        "#                y[k] = j*0.2*box + (np.random.rand()-0.5)*5e-5\n",
        "            else:\n",
        "                y[k] = j*0.2*box + 0.1\n",
        "#                y[k] = j*0.2*box + 0.1 + (np.random.rand()-0.5)*5e-5\n",
        "            k=k+1\n",
        "\n",
        "    k = 0\n",
        "    for i in range (0,int(N/5)):\n",
        "        for j in range(0,int(N/10)):\n",
        "            xm[k] = i*0.1*box + (np.random.rand()-0.5)*1e-3\n",
        "            if xm[k] >= 1.0:\n",
        "                xm[k] = xm[k] - int(xm[k])\n",
        "            if xm[k] < 0.0:\n",
        "                xm[k] = xm[k] - int(xm[k]) + 1\n",
        "            if math.fmod(i,2) == 0.0:\n",
        "                ym[k] = j*0.2*box + (np.random.rand()-0.5)*1e-3\n",
        "            else:\n",
        "                ym[k] = j*0.2*box + 0.1 + (np.random.rand()-0.5)*1e-3\n",
        "            if ym[k] >= 1.0:\n",
        "                ym[k] = ym[k] - int(ym[k])\n",
        "            if ym[k] < 0.0:\n",
        "                ym[k] = ym[k] - int(ym[k]) + 1\n",
        "            k=k+1\n",
        "\n",
        "    for i in range(0,N):\n",
        "        xr = x[i] - xm[i]\n",
        "        xr = xr - box*np.round(xr/box)\n",
        "        vx[i] = xr/dt\n",
        "        yr = y[i] - ym[i]\n",
        "        yr = yr - box*np.round(yr/box)\n",
        "        vy[i] = yr/dt\n",
        "        sumv2 = sumv2 + vx[i]*vx[i] + vy[i]*vy[i]\n",
        "\n",
        "\n",
        "#     for i in range(0,N):\n",
        "#         vx[i] = (np.random.rand()-0.5)*1e-1\n",
        "#         vy[i] = (np.random.rand()-0.5)*1e-1\n",
        "#         sumvx = sumvx + vx[i]\n",
        "#         sumvy = sumvy + vy[i]\n",
        "#         sumv2 = sumv2 + vx[i]*vx[i] + vy[i]*vy[i]\n",
        "\n",
        "#     sumvx = sumvx/N\n",
        "#     sumvy = sumvy/N\n",
        "#     sumv2 = sumv2/N\n",
        "\n",
        "#     fs = np.sqrt(3*Temp_start/sumv2)\n",
        "\n",
        "#     for i in range(0,N):\n",
        "#         vx[i] = (vx[i] - sumvx)*fs\n",
        "#         vy[i] = (vy[i] - sumvy)*fs\n",
        "#         xm[i] = x[i] - vx[i]*dt\n",
        "#         ym[i] = y[i] - vy[i]*dt\n",
        "\n",
        "    PE_start, fx, fy = force(x,y)\n",
        "    KE_start = 0.5*sumv2*m\n",
        "\n",
        "    return(x, y, vx, vy, xm, ym, PE_start, KE_start)\n"
      ],
      "id": "mZBi3QltgJM7"
    },
    {
      "cell_type": "code",
      "execution_count": 8,
      "metadata": {
        "id": "UJq0IRWDgJM7"
      },
      "outputs": [],
      "source": [
        "def integrate(en, forces_x, forces_y, x, xm, y, ym):\n",
        "\n",
        "    sumvx = 0\n",
        "    sumvy = 0\n",
        "    sumv2 = 0\n",
        "    vx = [0.0]*N\n",
        "    vy = [0.0]*N\n",
        "\n",
        "    for i in range(0,N):\n",
        "\n",
        "        xr = x[i] - xm[i]\n",
        "        xr = xr - box*np.round(xr/box)\n",
        "        xx = x[i] + xr + dt*dt*forces_x[i]\n",
        "        if xx >= 1.0:\n",
        "          xx = xx - int(xx)\n",
        "        if xx < 0.0:\n",
        "          xx = xx - int(xx) + 1\n",
        "\n",
        "        yr = y[i] - ym[i]\n",
        "        yr = yr - box*np.round(yr/box)\n",
        "        yy = y[i] + yr + dt*dt*forces_y[i]\n",
        "        if yy >= 1.0:\n",
        "          yy = yy - int(yy)\n",
        "        if yy < 0.0:\n",
        "          yy = yy - int(yy) + 1\n",
        "\n",
        "        xr = xx - xm[i]\n",
        "        xr = xr - box*np.round(xr/box)\n",
        "        vx[i] = xr/(2*dt)\n",
        "        yr = yy - ym[i]\n",
        "        yr = yr - box*np.round(yr/box)\n",
        "        vy[i] = yr/(2*dt)\n",
        "        sumvx = sumvx + vx[i]\n",
        "        sumvy = sumvy + vy[i]\n",
        "        sumv2 = sumv2 + vx[i]*vx[i] + vy[i]*vy[i]\n",
        "        xm[i] = x[i]\n",
        "        x[i] = xx\n",
        "        ym[i] = y[i]\n",
        "        y[i] = yy\n",
        "\n",
        "    Temp = sumv2/(3*N)\n",
        "    pot = en\n",
        "    kin = 0.5*sumv2*m\n",
        "    etot = pot + kin\n",
        "\n",
        "#    etot = (en + 0.5*sumv2)/N\n",
        "\n",
        "    return(Temp, pot, kin, etot, x, y)\n",
        "\n"
      ],
      "id": "UJq0IRWDgJM7"
    },
    {
      "cell_type": "code",
      "execution_count": 9,
      "metadata": {
        "id": "-02S_ZWugJM7"
      },
      "outputs": [],
      "source": [
        "def sample(x,y):\n",
        "\n",
        "    return(pair_distance(x,y))\n"
      ],
      "id": "-02S_ZWugJM7"
    },
    {
      "cell_type": "code",
      "execution_count": 10,
      "metadata": {
        "id": "QtCFgqsqgJM8"
      },
      "outputs": [],
      "source": [
        "def md(tmax,dt,nsamp):\n",
        "\n",
        "    x, y, vx, vy, xm, ym, pe_start, ke_start = init()\n",
        "    t = 0\n",
        "    steps = int(tmax/dt)\n",
        "    s = int(steps/nsamp)\n",
        "    times = [0.0]*s\n",
        "    PE = [0.0]*s\n",
        "    KE = [0.0]*s\n",
        "    TE = [0.0]*s\n",
        "    Temp = [0.0]*s\n",
        "    pair_dist = [0.0]*s\n",
        "\n",
        "    x_new = x\n",
        "    y_new = y\n",
        "    k = 0\n",
        "\n",
        "    for i in range(0,steps):\n",
        "        en, fx, fy = force(x_new,y_new)\n",
        "        T, pe, ke, te, x_new, y_new = integrate(en, fx, fy, x, xm, y, ym)\n",
        "        t = t+dt\n",
        "        if math.fmod(i, nsamp) == 0.0:\n",
        "            k = int(i/nsamp)\n",
        "            PE[k] = pe\n",
        "            KE[k] = ke\n",
        "            TE[k] = te\n",
        "            Temp[k] = T\n",
        "            times[k] = t\n",
        "            pair_dist[k] = sample(x_new,y_new)\n",
        "\n",
        "#    plt.plot(times[:], PE[:], c = 'r')\n",
        "#    plt.plot(times[:], KE[:], c = 'b')\n",
        "#    plt.plot(times[:], TE[:], c = 'grey')\n",
        "#    plt.plot(times[:], Temp[:], c='k')\n",
        "    plt.plot(times[:], pair_dist[:], c = 'g')\n",
        "\n",
        "    return(PE, KE, TE, x_new, y_new, pair_dist)\n",
        "\n"
      ],
      "id": "QtCFgqsqgJM8"
    },
    {
      "cell_type": "code",
      "execution_count": 11,
      "metadata": {
        "colab": {
          "base_uri": "https://localhost:8080/",
          "height": 430
        },
        "id": "BfFNXBj8gJM8",
        "outputId": "87068ac9-8dc5-4f04-aa96-c223b85b9c2a"
      },
      "outputs": [
        {
          "output_type": "display_data",
          "data": {
            "text/plain": [
              "<Figure size 640x480 with 1 Axes>"
            ],
            "image/png": "[encoded data removed]"
          },
          "metadata": {}
        }
      ],
      "source": [
        "\n",
        "dt = 1e-4\n",
        "tmax = 1\n",
        "nsamp = 10\n",
        "\n",
        "PE, KE, TE, x_final, y_final, pair_dist = md(tmax,dt,nsamp)\n"
      ],
      "id": "BfFNXBj8gJM8"
    },
    {
      "cell_type": "code",
      "execution_count": 12,
      "metadata": {
        "colab": {
          "base_uri": "https://localhost:8080/",
          "height": 430
        },
        "id": "vKG-hrS8gJM8",
        "outputId": "ff144653-b432-4819-afba-065c90a0f5f2"
      },
      "outputs": [
        {
          "output_type": "display_data",
          "data": {
            "text/plain": [
              "<Figure size 640x480 with 1 Axes>"
            ],
            "image/png": "[encoded data removed]"
          },
          "metadata": {}
        }
      ],
      "source": [
        "for i in range(0,N):\n",
        "    plt.scatter(x_start[i],y_start[i],c='k')\n",
        "    plt.scatter(x_final[i],y_final[i],c='r')\n",
        "plt.show()\n"
      ],
      "id": "vKG-hrS8gJM8"
    }
  ],
  "metadata": {
    "kernelspec": {
      "display_name": "Python 3",
      "language": "python",
      "name": "python3"
    },
    "language_info": {
      "codemirror_mode": {
        "name": "ipython",
        "version": 3
      },
      "file_extension": ".py",
      "mimetype": "text/x-python",
      "name": "python",
      "nbconvert_exporter": "python",
      "pygments_lexer": "ipython3",
      "version": "3.8.5"
    },
    "colab": {
      "provenance": []
    }
  },
  "nbformat": 4,
  "nbformat_minor": 5
}