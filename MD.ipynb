{
  "cells": [
    {
      "cell_type": "code",
      "execution_count": 31,
      "metadata": {
        "id": "jodd3yPigJM3"
      },
      "outputs": [],
      "source": [
        "import numpy as np\n",
        "import math\n",
        "import matplotlib.pyplot as plt\n",
        "import copy"
      ],
      "id": "jodd3yPigJM3"
    },
    {
      "cell_type": "code",
      "execution_count": 32,
      "metadata": {
        "id": "PbpBxxf_gJM5"
      },
      "outputs": [],
      "source": [
        "N = 50\n",
        "x_all = [0.0]*N\n",
        "y_all = [0.0]*N\n",
        "box = 1\n",
        "\n",
        "k=0\n",
        "for i in range (0,int(N/5)):\n",
        "    for j in range(0,int(N/10)):\n",
        "        x_all[k] = i*0.1*box\n",
        "        if math.fmod(i,2) == 0.0:\n",
        "#            y_all[k] = j*0.2*box + (np.random.rand()-0.5)*0.1\n",
        "            y_all[k] = j*0.2*box\n",
        "        else:\n",
        "#            y_all[k] = j*0.2*box + 0.1 + (np.random.rand()-0.5)*0.1\n",
        "            y_all[k] = j*0.2*box + 0.1\n",
        "        k=k+1\n",
        "\n",
        "x_start = [0.0]*N\n",
        "y_start = [0.0]*N\n",
        "for i in range (0,N):\n",
        "    x_start[i] = x_all[i]\n",
        "    y_start[i] = y_all[i]\n"
      ],
      "id": "PbpBxxf_gJM5"
    },
    {
      "cell_type": "code",
      "execution_count": 33,
      "metadata": {
        "colab": {
          "base_uri": "https://localhost:8080/",
          "height": 430
        },
        "id": "ocMmGOUdgJM5",
        "outputId": "97160018-89ec-43a7-eb69-d5453f1ae1cd"
      },
      "outputs": [
        {
          "output_type": "display_data",
          "data": {
            "text/plain": [
              "<Figure size 640x480 with 1 Axes>"
            ],
            "image/png": "[encoded data removed]"
          },
          "metadata": {}
        }
      ],
      "source": [
        "##  Visualize starting configuration  ##\n",
        "\n",
        "for i in range(0,N):\n",
        "    plt.scatter(x_start[i],y_start[i],c='k')\n",
        "plt.show()\n"
      ],
      "id": "ocMmGOUdgJM5"
    },
    {
      "cell_type": "code",
      "execution_count": 115,
      "metadata": {
        "id": "25uGkElDgJM6"
      },
      "outputs": [],
      "source": [
        "###  Use this for Simple Pairwise Potential  ##\n",
        "\n",
        "def force(x_all,y_all):\n",
        "\n",
        "    en = 0\n",
        "    c = -1/50\n",
        "    rc = 0.25\n",
        "    forces_x = [0.0]*N\n",
        "    forces_y = [0.0]*N\n",
        "\n",
        "    for i in range (0,N-1):\n",
        "        for j in range (i+1,N):\n",
        "            xr = x_all[i] - x_all[j]\n",
        "            xr = xr - box*np.round(xr/box)\n",
        "            yr = y_all[i] - y_all[j]\n",
        "            yr = yr - box*np.round(yr/box)\n",
        "            r = np.sqrt(xr*xr + yr*yr)\n",
        "            if r <= rc:\n",
        "                ff = c/(r*r)\n",
        "                forces_x[i] = forces_x[i] + ff*(xr/r)\n",
        "                forces_x[j] = forces_x[j] - ff*(xr/r)\n",
        "                forces_y[i] = forces_y[i] + ff*(yr/r)\n",
        "                forces_y[j] = forces_y[j] - ff*(yr/r)\n",
        "                en = en + c/r\n",
        "\n",
        "    return(en,forces_x,forces_y)\n"
      ],
      "id": "25uGkElDgJM6"
    },
    {
      "cell_type": "code",
      "execution_count": null,
      "metadata": {
        "id": "GSzHNJQegJM6"
      },
      "outputs": [],
      "source": [
        "###  Use this for Lennard Jones Potential  ##\n",
        "###  (https://en.wikipedia.org/wiki/Lennard-Jones_potential)\n",
        "\n",
        "def force(x_all,y_all):\n",
        "\n",
        "    en = 0\n",
        "    forces_x = [0.0]*N\n",
        "    forces_y = [0.0]*N\n",
        "    rc = 0.2\n",
        "    eps = 1e-42\n",
        "\n",
        "    for i in range (0,N-1):\n",
        "        for j in range (i+1,N):\n",
        "            xr = x_all[i] - x_all[j]\n",
        "            xr = xr - box*np.round(xr/box)\n",
        "            yr = y_all[i] - y_all[j]\n",
        "            yr = yr - box*np.round(yr/box)\n",
        "\n",
        "            r2 = xr*xr + yr*yr\n",
        "\n",
        "            if r2 <= rc*rc:\n",
        "                r2i = 1/r2\n",
        "                r6i = np.power(r2i,3)\n",
        "                ff = 48*eps*r2i*r6i*(r6i-0.5)\n",
        "                forces_x[i] = forces_x[i] + ff*xr\n",
        "                forces_x[j] = forces_x[j] - ff*xr\n",
        "                forces_y[i] = forces_y[i] + ff*yr\n",
        "                forces_y[j] = forces_y[j] - ff*yr\n",
        "                en = (en + 4*eps*r6i*(r6i-1))\n",
        "\n",
        "    return(en,forces_x,forces_y)\n"
      ],
      "id": "GSzHNJQegJM6"
    },
    {
      "cell_type": "code",
      "execution_count": 116,
      "metadata": {
        "id": "tw7sr85TgJM6"
      },
      "outputs": [],
      "source": [
        "###  Use this for Calculating Average Pairwise Distances  ##\n",
        "\n",
        "def pair_distance(x_all,y_all):\n",
        "\n",
        "    k = 0\n",
        "    dist_avg = 0\n",
        "\n",
        "    for i in range (0,N-1):\n",
        "        for j in range (i+1,N):\n",
        "            xr = x_all[i] - x_all[j]\n",
        "            xr = xr - box*np.round(xr/box)\n",
        "            yr = y_all[i] - y_all[j]\n",
        "            yr = yr - box*np.round(yr/box)\n",
        "            r = np.sqrt(xr*xr + yr*yr)\n",
        "            dist_avg = dist_avg + r\n",
        "            k = k+1\n",
        "\n",
        "    dist_avg = dist_avg/k\n",
        "\n",
        "    return(dist_avg)\n"
      ],
      "id": "tw7sr85TgJM6"
    },
    {
      "cell_type": "code",
      "execution_count": 117,
      "metadata": {
        "id": "YMV8H1VHgJM7"
      },
      "outputs": [],
      "source": [
        "##  Define MD Parameters  ##\n",
        "\n",
        "Temp_start = 1\n",
        "m = 1\n",
        "dt = 1e-4\n"
      ],
      "id": "YMV8H1VHgJM7"
    },
    {
      "cell_type": "code",
      "execution_count": 118,
      "metadata": {
        "id": "mZBi3QltgJM7"
      },
      "outputs": [],
      "source": [
        "def init():\n",
        "\n",
        "    x = [0.0]*N\n",
        "    y = [0.0]*N\n",
        "    xm = [0.0]*N\n",
        "    ym = [0.0]*N\n",
        "\n",
        "    vx = [0.0]*N\n",
        "    vy = [0.0]*N\n",
        "    sumvx = 0\n",
        "    sumvy = 0\n",
        "    sumv2 = 0\n",
        "\n",
        "    k = 0\n",
        "    for i in range (0,int(N/5)):\n",
        "        for j in range(0,int(N/10)):\n",
        "            x[k] = i*0.1*box\n",
        "#            x[k] = i*0.1*box + (np.random.rand()-0.5)*5e-5\n",
        "            if math.fmod(i,2) == 0.0:\n",
        "                y[k] = j*0.2*box\n",
        "#                y[k] = j*0.2*box + (np.random.rand()-0.5)*5e-5\n",
        "            else:\n",
        "                y[k] = j*0.2*box + 0.1\n",
        "#                y[k] = j*0.2*box + 0.1 + (np.random.rand()-0.5)*5e-5\n",
        "            k=k+1\n",
        "\n",
        "    k = 0\n",
        "    for i in range (0,int(N/5)):\n",
        "        for j in range(0,int(N/10)):\n",
        "            xm[k] = i*0.1*box + (np.random.rand()-0.5)*1e-4\n",
        "            if xm[k] >= 1.0:\n",
        "                xm[k] = xm[k] - int(xm[k])\n",
        "            if xm[k] < 0.0:\n",
        "                xm[k] = xm[k] - int(xm[k]) + 1\n",
        "            if math.fmod(i,2) == 0.0:\n",
        "                ym[k] = j*0.2*box + (np.random.rand()-0.5)*1e-4\n",
        "            else:\n",
        "                ym[k] = j*0.2*box + 0.1 + (np.random.rand()-0.5)*1e-4\n",
        "            if ym[k] >= 1.0:\n",
        "                ym[k] = ym[k] - int(ym[k])\n",
        "            if ym[k] < 0.0:\n",
        "                ym[k] = ym[k] - int(ym[k]) + 1\n",
        "            k=k+1\n",
        "\n",
        "    for i in range(0,N):\n",
        "        xr = x[i] - xm[i]\n",
        "        xr = xr - box*np.round(xr/box)\n",
        "        vx[i] = xr/dt\n",
        "        yr = y[i] - ym[i]\n",
        "        yr = yr - box*np.round(yr/box)\n",
        "        vy[i] = yr/dt\n",
        "        sumv2 = sumv2 + vx[i]*vx[i] + vy[i]*vy[i]\n",
        "\n",
        "\n",
        "    # for i in range(0,N):\n",
        "    #     vx[i] = (np.random.rand()-0.5)*1e-1\n",
        "    #     vy[i] = (np.random.rand()-0.5)*1e-1\n",
        "    #     sumvx = sumvx + vx[i]\n",
        "    #     sumvy = sumvy + vy[i]\n",
        "    #     sumv2 = sumv2 + vx[i]*vx[i] + vy[i]*vy[i]\n",
        "\n",
        "    # sumvx = sumvx/N\n",
        "    # sumvy = sumvy/N\n",
        "    # sumv2 = sumv2/N\n",
        "\n",
        "    # fs = np.sqrt(3*Temp_start/sumv2)\n",
        "\n",
        "    # for i in range(0,N):\n",
        "    #   vx[i] = (vx[i] - sumvx)*fs\n",
        "    #   vy[i] = (vy[i] - sumvy)*fs\n",
        "    #   xm[i] = x[i] - vx[i]*dt\n",
        "    #   ym[i] = y[i] - vy[i]*dt\n",
        "\n",
        "    PE_start, fx, fy = force(x,y)\n",
        "    KE_start = 0.5*sumv2*m\n",
        "\n",
        "    return(x, y, vx, vy, xm, ym, PE_start, KE_start)\n"
      ],
      "id": "mZBi3QltgJM7"
    },
    {
      "cell_type": "code",
      "source": [
        "x, y, vx, vy, xm, ym, PE_start, KE_start = init()"
      ],
      "metadata": {
        "id": "pSk1gManHC1B"
      },
      "id": "pSk1gManHC1B",
      "execution_count": 119,
      "outputs": []
    },
    {
      "cell_type": "code",
      "source": [
        "PE_start"
      ],
      "metadata": {
        "colab": {
          "base_uri": "https://localhost:8080/"
        },
        "id": "mDU_OMY5HHZU",
        "outputId": "2d78160e-e8ed-496e-8f2f-351edf580c20"
      },
      "id": "mDU_OMY5HHZU",
      "execution_count": 120,
      "outputs": [
        {
          "output_type": "execute_result",
          "data": {
            "text/plain": [
              "-24.142135623730958"
            ]
          },
          "metadata": {},
          "execution_count": 120
        }
      ]
    },
    {
      "cell_type": "code",
      "execution_count": 121,
      "metadata": {
        "id": "UJq0IRWDgJM7"
      },
      "outputs": [],
      "source": [
        "def integrate(en, forces_x, forces_y, x, xm, y, ym):\n",
        "\n",
        "    sumvx = 0\n",
        "    sumvy = 0\n",
        "    sumv2 = 0\n",
        "    vx = [0.0]*N\n",
        "    vy = [0.0]*N\n",
        "\n",
        "    for i in range(0,N):\n",
        "\n",
        "        xr = x[i] - xm[i]\n",
        "        xr = xr - box*np.round(xr/box)\n",
        "        xx = x[i] + xr + dt*dt*forces_x[i]/m\n",
        "        if xx >= 1.0:\n",
        "          xx = xx - int(xx)\n",
        "        if xx < 0.0:\n",
        "          xx = xx - int(xx) + 1\n",
        "\n",
        "        yr = y[i] - ym[i]\n",
        "        yr = yr - box*np.round(yr/box)\n",
        "        yy = y[i] + yr + dt*dt*forces_y[i]/m\n",
        "        if yy >= 1.0:\n",
        "          yy = yy - int(yy)\n",
        "        if yy < 0.0:\n",
        "          yy = yy - int(yy) + 1\n",
        "\n",
        "        xr = xx - xm[i]\n",
        "        xr = xr - box*np.round(xr/box)\n",
        "        vx[i] = xr/(2*dt)\n",
        "        yr = yy - ym[i]\n",
        "        yr = yr - box*np.round(yr/box)\n",
        "        vy[i] = yr/(2*dt)\n",
        "        sumvx = sumvx + vx[i]\n",
        "        sumvy = sumvy + vy[i]\n",
        "        sumv2 = sumv2 + vx[i]*vx[i] + vy[i]*vy[i]\n",
        "        xm[i] = x[i]\n",
        "        x[i] = xx\n",
        "        ym[i] = y[i]\n",
        "        y[i] = yy\n",
        "\n",
        "    Temp = sumv2/(3*N)\n",
        "    pot = en\n",
        "    kin = 0.5*sumv2*m\n",
        "    etot = pot + kin\n",
        "\n",
        "#    etot = (en + 0.5*sumv2)/N\n",
        "\n",
        "    return(Temp, pot, kin, etot, x, y)\n",
        "\n"
      ],
      "id": "UJq0IRWDgJM7"
    },
    {
      "cell_type": "code",
      "source": [
        "## Run this cell only for Anderson thermostat (to keep temp fixed) ##\n",
        "\n",
        "def integrate(switch, en, forces_x, forces_y, x, y, vx, vy, temp):\n",
        "\n",
        "    sumvx = 0\n",
        "    sumvy = 0\n",
        "    sumv2 = 0\n",
        "    vx = [0.0]*N\n",
        "    vy = [0.0]*N\n",
        "    nu = 5\n",
        "    Temp = 0\n",
        "\n",
        "\n",
        "    if switch == 1:\n",
        "\n",
        "        for i in range(0,N):\n",
        "\n",
        "            xx = x[i] + vx[i]*dt + dt*dt*forces_x[i]/(2*m)\n",
        "            if xx >= 1.0:\n",
        "              xx = xx - int(xx)\n",
        "            if xx < 0.0:\n",
        "              xx = xx - int(xx) + 1\n",
        "            x[i] = copy.deepcopy(xx)\n",
        "            vx[i] = vx[i] + dt*forces_x[i]/(2*m)\n",
        "\n",
        "            yy = y[i] + vy[i]*dt + dt*dt*forces_y[i]/(2*m)\n",
        "            if yy >= 1.0:\n",
        "              yy = yy - int(yy)\n",
        "            if yy < 0.0:\n",
        "              yy = yy - int(yy) + 1\n",
        "            y[i] = copy.deepcopy(yy)\n",
        "            vy[i] = vy[i] + dt*forces_y[i]/(2*m)\n",
        "\n",
        "\n",
        "    elif switch == 2:\n",
        "\n",
        "        tempa = 0\n",
        "\n",
        "        for i in range(0,N):\n",
        "            vx[i] = vx[i] + dt*forces_x[i]/(2*m)\n",
        "            tempa = tempa + vx[i]*vx[i]\n",
        "            vy[i] = vy[i] + dt*forces_y[i]/(2*m)\n",
        "            tempa = tempa + vy[i]*vy[i]\n",
        "        tempa = tempa/((3/m)*N)\n",
        "        sigma = np.sqrt(temp)\n",
        "        for i in range(0,N):\n",
        "            if np.random.rand() < nu*dt:\n",
        "                samples = np.random.normal(loc=0, scale=sigma, size=1000)\n",
        "                vx[i] = samples[np.random.randint(0,1000)]\n",
        "                vy[i] = samples[np.random.randint(0,1000)]\n",
        "\n",
        "        Temp = copy.deepcopy(tempa)\n",
        "\n",
        "\n",
        "    sumvx = sumvx + vx[i]\n",
        "    sumvy = sumvy + vy[i]\n",
        "    sumv2 = sumv2 + vx[i]*vx[i] + vy[i]*vy[i]\n",
        "\n",
        "    pot = en\n",
        "    kin = 0.5*sumv2*m\n",
        "    etot = pot + kin\n",
        "\n",
        "#    etot = (en + 0.5*sumv2)/N\n",
        "\n",
        "    return(Temp, pot, kin, etot, x, y)\n",
        "\n"
      ],
      "metadata": {
        "id": "65h4f2d54CUA"
      },
      "id": "65h4f2d54CUA",
      "execution_count": 26,
      "outputs": []
    },
    {
      "cell_type": "code",
      "source": [
        "sigma = np.sqrt(40000)\n",
        "samples = np.random.normal(loc=0, scale=sigma, size=1000)"
      ],
      "metadata": {
        "id": "Njd9kEiVElPE"
      },
      "id": "Njd9kEiVElPE",
      "execution_count": null,
      "outputs": []
    },
    {
      "cell_type": "code",
      "source": [
        "## Example of Gaussian distribution ##\n",
        "\n",
        "import numpy as np\n",
        "\n",
        "sigma = 2.5  # Set the desired sigma value\n",
        "samples = np.random.normal(loc=0, scale=sigma, size=1000)\n",
        "\n",
        "# Print some of the samples\n",
        "print(samples[:10])\n",
        "\n",
        "plt.hist(samples, bins=50)\n",
        "plt.show()"
      ],
      "metadata": {
        "id": "3IU0VOcE-qVO",
        "outputId": "60c7747b-d0b2-4b90-f78c-99cae9efd967",
        "colab": {
          "base_uri": "https://localhost:8080/",
          "height": 465
        }
      },
      "id": "3IU0VOcE-qVO",
      "execution_count": null,
      "outputs": [
        {
          "output_type": "stream",
          "name": "stdout",
          "text": [
            "[-2.51764135  0.09678401 -0.73153025 -0.17098077  1.41108955 -0.48300554\n",
            "  3.01173088  0.71374756 -0.11396224  1.95443088]\n"
          ]
        },
        {
          "output_type": "display_data",
          "data": {
            "text/plain": [
              "<Figure size 640x480 with 1 Axes>"
            ],
            "image/png": "[encoded data removed]"
          },
          "metadata": {}
        }
      ]
    },
    {
      "cell_type": "code",
      "execution_count": 122,
      "metadata": {
        "id": "-02S_ZWugJM7"
      },
      "outputs": [],
      "source": [
        "def sample(x,y):\n",
        "\n",
        "    return(pair_distance(x,y))\n"
      ],
      "id": "-02S_ZWugJM7"
    },
    {
      "cell_type": "code",
      "execution_count": 123,
      "metadata": {
        "id": "QtCFgqsqgJM8"
      },
      "outputs": [],
      "source": [
        "def md(tmax,dt,nsamp):\n",
        "\n",
        "    x, y, vx, vy, xm, ym, pe_start, ke_start = init()\n",
        "    t = 0\n",
        "    steps = round(tmax/dt)\n",
        "    s = int(steps/nsamp)\n",
        "    times = [0.0]*s\n",
        "    PE = [0.0]*s\n",
        "    KE = [0.0]*s\n",
        "    TE = [0.0]*s\n",
        "    Temp = [0.0]*s\n",
        "    pair_dist = [0.0]*s\n",
        "\n",
        "    x_new = x\n",
        "    y_new = y\n",
        "    k = 0\n",
        "\n",
        "    PE[0] = pe_start\n",
        "    KE[0] = ke_start\n",
        "    TE[0] = pe_start + ke_start\n",
        "    Temp[0] = Temp_start\n",
        "    times[0] = 0\n",
        "    pair_dist[0] = sample(x_new,y_new)\n",
        "\n",
        "    for i in range(1,steps):\n",
        "        en, fx, fy = force(x_new,y_new)\n",
        "        T, pe, ke, te, x_new, y_new = integrate(en, fx, fy, x, xm, y, ym)\n",
        "        t = t+dt\n",
        "        if math.fmod(i, nsamp) == 0.0:\n",
        "            k = int(i/nsamp)\n",
        "            PE[k] = pe\n",
        "            KE[k] = ke\n",
        "            TE[k] = te\n",
        "            Temp[k] = T\n",
        "            times[k] = t\n",
        "            pair_dist[k] = sample(x_new,y_new)\n",
        "\n",
        "    plt.plot(times[:], PE[:], c = 'r')\n",
        "    plt.plot(times[:], KE[:], c = 'b')\n",
        "    plt.plot(times[:], TE[:], c = 'grey')\n",
        "#    plt.plot(times[:], Temp[:], c='k')\n",
        "#    plt.plot(times[:], pair_dist[:], c = 'g')\n",
        "\n",
        "    return(PE, KE, TE, x_new, y_new, pair_dist)\n",
        "\n"
      ],
      "id": "QtCFgqsqgJM8"
    },
    {
      "cell_type": "code",
      "source": [
        "def md_anderson(tmax,dt,nsamp,T):\n",
        "\n",
        "    x, y, vx, vy, xm, ym, pe_start, ke_start = init()\n",
        "    en, fx, fy = force(x,y)\n",
        "    t = 0\n",
        "    steps = round(tmax/dt)\n",
        "    s = int(steps/nsamp)\n",
        "    times = [0.0]*s\n",
        "    PE = [0.0]*s\n",
        "    KE = [0.0]*s\n",
        "    TE = [0.0]*s\n",
        "    Temp = [0.0]*s\n",
        "    pair_dist = [0.0]*s\n",
        "\n",
        "    x_new = x\n",
        "    y_new = y\n",
        "    k = 0\n",
        "\n",
        "    for i in range(0,steps):\n",
        "        T, pe, ke, te, x_new, y_new = integrate(1, en, fx, fy, x_new, y_new, vx, vy, T)\n",
        "        en, fx, fy = force(x_new,y_new)\n",
        "        T, pe, ke, te, x_new, y_new = integrate(2, en, fx, fy, x_new, y_new, vx, vy, T)\n",
        "        t = t+dt\n",
        "        if math.fmod(i, nsamp) == 0.0:\n",
        "            k = int(i/nsamp)\n",
        "            PE[k] = pe\n",
        "            KE[k] = ke\n",
        "            TE[k] = te\n",
        "            Temp[k] = T\n",
        "            times[k] = t\n",
        "            pair_dist[k] = sample(x_new,y_new)\n",
        "\n",
        "#    plt.plot(times[:], PE[:], c = 'r')\n",
        "#    plt.plot(times[:], KE[:], c = 'b')\n",
        "#    plt.plot(times[:], TE[:], c = 'grey')\n",
        "    plt.plot(times[:], Temp[:], c='k')\n",
        "#    plt.plot(times[:], pair_dist[:], c = 'g')\n",
        "\n",
        "    return(PE, KE, TE, x_new, y_new, pair_dist)\n",
        "\n"
      ],
      "metadata": {
        "id": "h3GaVG3L75WX"
      },
      "id": "h3GaVG3L75WX",
      "execution_count": 27,
      "outputs": []
    },
    {
      "cell_type": "code",
      "execution_count": 124,
      "metadata": {
        "colab": {
          "base_uri": "https://localhost:8080/",
          "height": 430
        },
        "id": "BfFNXBj8gJM8",
        "outputId": "a6f12f4d-adf8-4a9e-9066-dcc6908227fe"
      },
      "outputs": [
        {
          "output_type": "display_data",
          "data": {
            "text/plain": [
              "<Figure size 640x480 with 1 Axes>"
            ],
            "image/png": "[encoded data removed]"
          },
          "metadata": {}
        }
      ],
      "source": [
        "\n",
        "dt = 1e-4\n",
        "tmax = 2e-2\n",
        "nsamp = 10\n",
        "Temp = 4\n",
        "\n",
        "PE, KE, TE, x_final, y_final, pair_dist = md(tmax,dt,nsamp)\n"
      ],
      "id": "BfFNXBj8gJM8"
    },
    {
      "cell_type": "code",
      "source": [
        "sigma = np.sqrt(400)\n",
        "np.random.normal(loc=0, scale=sigma, size=10)"
      ],
      "metadata": {
        "id": "wkW6uVeyDjai",
        "outputId": "1e6332b6-9ffa-4aab-de02-355633c163d7",
        "colab": {
          "base_uri": "https://localhost:8080/"
        }
      },
      "id": "wkW6uVeyDjai",
      "execution_count": null,
      "outputs": [
        {
          "output_type": "execute_result",
          "data": {
            "text/plain": [
              "array([-11.38527365,  -6.76264689,  12.95454184,   2.21611764,\n",
              "        19.73532754,  19.37296329, -13.05740203,  17.83887543,\n",
              "        -0.2117059 ,  42.95649256])"
            ]
          },
          "metadata": {},
          "execution_count": 56
        }
      ]
    },
    {
      "cell_type": "code",
      "source": [
        "\n",
        "dt = 1e-5\n",
        "tmax = 2e-2\n",
        "nsamp = 10\n",
        "\n",
        "PE, KE, TE, x_final, y_final, pair_dist = md(tmax,dt,nsamp)\n"
      ],
      "metadata": {
        "id": "xUKhfcodf90n",
        "outputId": "a9a75480-2853-46f3-ac2e-066ad42a7e08",
        "colab": {
          "base_uri": "https://localhost:8080/",
          "height": 430
        }
      },
      "id": "xUKhfcodf90n",
      "execution_count": null,
      "outputs": [
        {
          "output_type": "display_data",
          "data": {
            "text/plain": [
              "<Figure size 640x480 with 1 Axes>"
            ],
            "image/png": "[encoded data removed]"
          },
          "metadata": {}
        }
      ]
    },
    {
      "cell_type": "code",
      "execution_count": 125,
      "metadata": {
        "colab": {
          "base_uri": "https://localhost:8080/",
          "height": 430
        },
        "id": "vKG-hrS8gJM8",
        "outputId": "9cbc4c35-653d-48c4-ef3a-a1780a468f85"
      },
      "outputs": [
        {
          "output_type": "display_data",
          "data": {
            "text/plain": [
              "<Figure size 640x480 with 1 Axes>"
            ],
            "image/png": "[encoded data removed]"
          },
          "metadata": {}
        }
      ],
      "source": [
        "for i in range(0,N):\n",
        "    plt.scatter(x_start[i],y_start[i],c='k')\n",
        "    plt.scatter(x_final[i],y_final[i],c='r')\n",
        "plt.show()\n"
      ],
      "id": "vKG-hrS8gJM8"
    }
  ],
  "metadata": {
    "kernelspec": {
      "display_name": "Python 3",
      "language": "python",
      "name": "python3"
    },
    "language_info": {
      "codemirror_mode": {
        "name": "ipython",
        "version": 3
      },
      "file_extension": ".py",
      "mimetype": "text/x-python",
      "name": "python",
      "nbconvert_exporter": "python",
      "pygments_lexer": "ipython3",
      "version": "3.8.5"
    },
    "colab": {
      "provenance": []
    }
  },
  "nbformat": 4,
  "nbformat_minor": 5
}