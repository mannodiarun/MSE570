{
  "cells": [
    {
      "cell_type": "code",
      "execution_count": 7,
      "metadata": {
        "id": "jodd3yPigJM3"
      },
      "outputs": [],
      "source": [
        "import numpy as np\n",
        "import math\n",
        "import matplotlib.pyplot as plt\n",
        "import copy"
      ],
      "id": "jodd3yPigJM3"
    },
    {
      "cell_type": "code",
      "execution_count": 8,
      "metadata": {
        "id": "PbpBxxf_gJM5"
      },
      "outputs": [],
      "source": [
        "N = 50\n",
        "x_all = [0.0]*N\n",
        "y_all = [0.0]*N\n",
        "box = 10  # Angstrom\n",
        "\n",
        "k=0\n",
        "for i in range (0,int(N/5)):\n",
        "    for j in range(0,int(N/10)):\n",
        "        x_all[k] = i*0.1*box + (np.random.rand()-0.5)*0.05*box\n",
        "        if math.fmod(i,2) == 0.0:\n",
        "#            y_all[k] = j*0.2*box + (np.random.rand()-0.5)*0.1\n",
        "            y_all[k] = j*0.2*box + (np.random.rand()-0.5)*0.05*box\n",
        "        else:\n",
        "#            y_all[k] = j*0.2*box + 0.1 + (np.random.rand()-0.5)*0.1\n",
        "            y_all[k] = j*0.2*box + 0.1*box + (np.random.rand()-0.5)*0.05*box\n",
        "        k=k+1\n",
        "\n",
        "x_start = [0.0]*N\n",
        "y_start = [0.0]*N\n",
        "for i in range (0,N):\n",
        "    x_start[i] = x_all[i]\n",
        "    y_start[i] = y_all[i]\n"
      ],
      "id": "PbpBxxf_gJM5"
    },
    {
      "cell_type": "code",
      "execution_count": 9,
      "metadata": {
        "colab": {
          "base_uri": "https://localhost:8080/",
          "height": 430
        },
        "id": "ocMmGOUdgJM5",
        "outputId": "0259315b-a930-42de-d838-4d38a30b12b5"
      },
      "outputs": [
        {
          "output_type": "display_data",
          "data": {
            "text/plain": [
              "<Figure size 640x480 with 1 Axes>"
            ],
            "image/png": "[encoded data removed]"
          },
          "metadata": {}
        }
      ],
      "source": [
        "##  Visualize starting configuration  ##\n",
        "\n",
        "for i in range(0,N):\n",
        "    plt.scatter(x_start[i],y_start[i],c='k')\n",
        "plt.show()\n"
      ],
      "id": "ocMmGOUdgJM5"
    },
    {
      "cell_type": "code",
      "execution_count": 57,
      "metadata": {
        "id": "25uGkElDgJM6"
      },
      "outputs": [],
      "source": [
        "###  Use this for Simple Pairwise Potential  ##\n",
        "\n",
        "def force(x_all,y_all):\n",
        "\n",
        "    en = 0\n",
        "    c = -1E-26/N  # Joules.Angstrom\n",
        "    rc = 5  # Angstrom\n",
        "    forces_x = [0.0]*N\n",
        "    forces_y = [0.0]*N\n",
        "\n",
        "    for i in range (0,N-1):\n",
        "        for j in range (i+1,N):\n",
        "            xr = x_all[i] - x_all[j]\n",
        "            xr = xr - box*np.round(xr/box)\n",
        "            yr = y_all[i] - y_all[j]\n",
        "            yr = yr - box*np.round(yr/box)\n",
        "            r = np.sqrt(xr*xr + yr*yr)\n",
        "            if r <= rc:\n",
        "                ff = (c/(r*r))*1E10  # converting to J/m\n",
        "                forces_x[i] = forces_x[i] + ff*(xr/r)\n",
        "                forces_x[j] = forces_x[j] - ff*(xr/r)\n",
        "                forces_y[i] = forces_y[i] + ff*(yr/r)\n",
        "                forces_y[j] = forces_y[j] - ff*(yr/r)\n",
        "                en = en + c/r\n",
        "\n",
        "    return(en,forces_x,forces_y)\n"
      ],
      "id": "25uGkElDgJM6"
    },
    {
      "cell_type": "code",
      "source": [
        "en,forces_x,forces_y = force(x_start,y_start)"
      ],
      "metadata": {
        "id": "LUpWLKdIIFGG"
      },
      "id": "LUpWLKdIIFGG",
      "execution_count": 58,
      "outputs": []
    },
    {
      "cell_type": "code",
      "source": [
        "en"
      ],
      "metadata": {
        "id": "_zmXAFbeIKnh",
        "outputId": "0394eafe-a031-43f0-f894-5ba3d54244cc",
        "colab": {
          "base_uri": "https://localhost:8080/"
        }
      },
      "id": "_zmXAFbeIKnh",
      "execution_count": 59,
      "outputs": [
        {
          "output_type": "execute_result",
          "data": {
            "text/plain": [
              "-6.556938606386176e-26"
            ]
          },
          "metadata": {},
          "execution_count": 59
        }
      ]
    },
    {
      "cell_type": "code",
      "execution_count": 60,
      "metadata": {
        "id": "tw7sr85TgJM6"
      },
      "outputs": [],
      "source": [
        "###  Use this for Calculating Average Pairwise Distances  ##\n",
        "\n",
        "def pair_distance(x_all,y_all):\n",
        "\n",
        "    k = 0\n",
        "    dist_avg = 0\n",
        "\n",
        "    for i in range (0,N-1):\n",
        "        for j in range (i+1,N):\n",
        "            xr = x_all[i] - x_all[j]\n",
        "            xr = xr - box*np.round(xr/box)\n",
        "            yr = y_all[i] - y_all[j]\n",
        "            yr = yr - box*np.round(yr/box)\n",
        "            r = np.sqrt(xr*xr + yr*yr)\n",
        "            dist_avg = dist_avg + r\n",
        "            k = k+1\n",
        "\n",
        "    dist_avg = dist_avg/k\n",
        "\n",
        "    return(dist_avg)\n"
      ],
      "id": "tw7sr85TgJM6"
    },
    {
      "cell_type": "code",
      "execution_count": 61,
      "metadata": {
        "id": "YMV8H1VHgJM7"
      },
      "outputs": [],
      "source": [
        "##  Define MD Parameters  ##\n",
        "\n",
        "Temp_start = 300  # Kelvin\n",
        "m = 4.48E-26  # kg\n",
        "dt = 1e-12  # seconds\n",
        "kB = 1.380649E-23  # J/K\n"
      ],
      "id": "YMV8H1VHgJM7"
    },
    {
      "cell_type": "code",
      "execution_count": 73,
      "metadata": {
        "id": "mZBi3QltgJM7"
      },
      "outputs": [],
      "source": [
        "def init():\n",
        "\n",
        "    x = [0.0]*N\n",
        "    y = [0.0]*N\n",
        "    xm = [0.0]*N\n",
        "    ym = [0.0]*N\n",
        "\n",
        "    vx = [0.0]*N\n",
        "    vy = [0.0]*N\n",
        "    sumvx = 0\n",
        "    sumvy = 0\n",
        "    sumv2 = 0\n",
        "\n",
        "    k = 0\n",
        "    for i in range (0,int(N/5)):\n",
        "        for j in range(0,int(N/10)):\n",
        "            x[k] = i*0.1*box + (np.random.rand()-0.5)*0.05*box\n",
        "            if math.fmod(i,2) == 0.0:\n",
        "                y[k] = j*0.2*box + (np.random.rand()-0.5)*0.05*box\n",
        "            else:\n",
        "                y[k] = j*0.2*box + 0.1*box + (np.random.rand()-0.5)*0.05*box\n",
        "            k=k+1\n",
        "\n",
        "    k = 0\n",
        "    for i in range (0,int(N/5)):\n",
        "        for j in range(0,int(N/10)):\n",
        "            xm[k] = i*0.1*box + (np.random.rand()-0.5)*0.01*box\n",
        "            if xm[k] >= box:\n",
        "                xm[k] = xm[k] - int(xm[k])\n",
        "            if xm[k] < 0.0:\n",
        "                xm[k] = xm[k] - int(xm[k]) + box\n",
        "            if math.fmod(i,2) == 0.0:\n",
        "                ym[k] = j*0.2*box + (np.random.rand()-0.5)*0.01*box\n",
        "            else:\n",
        "                ym[k] = j*0.2*box + 0.1*box + (np.random.rand()-0.5)*0.01*box\n",
        "            if ym[k] >= box:\n",
        "                ym[k] = ym[k] - int(ym[k])\n",
        "            if ym[k] < 0.0:\n",
        "                ym[k] = ym[k] - int(ym[k]) + box\n",
        "            k=k+1\n",
        "\n",
        "    for i in range(0,N):\n",
        "        xr = x[i] - xm[i]\n",
        "        xr = xr - box*np.round(xr/box)\n",
        "        vx[i] = (xr/dt)*1E-10  # m/s\n",
        "        yr = y[i] - ym[i]\n",
        "        yr = yr - box*np.round(yr/box)\n",
        "        vy[i] = (yr/dt)*1E-10  # m/s\n",
        "\n",
        "\n",
        "    for i in range(0,N):\n",
        "        sumvx = sumvx + vx[i]\n",
        "        sumvy = sumvy + vy[i]\n",
        "        sumv2 = sumv2 + vx[i]*vx[i] + vy[i]*vy[i]\n",
        "\n",
        "    sumvx = sumvx/N\n",
        "    sumvy = sumvy/N\n",
        "    sumv2 = sumv2/(2*N)\n",
        "\n",
        "    fs = np.sqrt(2*kB*Temp_start/(m*sumv2))\n",
        "    sumv2 = 0\n",
        "\n",
        "    for i in range(0,N):\n",
        "        vx[i] = (vx[i] - sumvx)*fs\n",
        "        vy[i] = (vy[i] - sumvy)*fs\n",
        "        sumv2 = sumv2 + vx[i]*vx[i] + vy[i]*vy[i]\n",
        "        xm[i] = x[i] - vx[i]*dt\n",
        "        ym[i] = y[i] - vy[i]*dt\n",
        "\n",
        "    PE_start, fx, fy = force(x,y)\n",
        "    KE_start = (0.5*sumv2*m)\n",
        "    Temp = KE_start/(kB*2*N)\n",
        "\n",
        "    return(x, y, vx, vy, xm, ym, PE_start, KE_start, Temp)\n"
      ],
      "id": "mZBi3QltgJM7"
    },
    {
      "cell_type": "code",
      "source": [
        "x, y, vx, vy, xm, ym, PE_start, KE_start, Temp = init()"
      ],
      "metadata": {
        "id": "pSk1gManHC1B"
      },
      "id": "pSk1gManHC1B",
      "execution_count": 74,
      "outputs": []
    },
    {
      "cell_type": "code",
      "source": [
        "Temp_start"
      ],
      "metadata": {
        "colab": {
          "base_uri": "https://localhost:8080/"
        },
        "id": "mDU_OMY5HHZU",
        "outputId": "540391e6-7afa-422c-dfc7-77d9bc377f92"
      },
      "id": "mDU_OMY5HHZU",
      "execution_count": 75,
      "outputs": [
        {
          "output_type": "execute_result",
          "data": {
            "text/plain": [
              "300"
            ]
          },
          "metadata": {},
          "execution_count": 75
        }
      ]
    },
    {
      "cell_type": "code",
      "source": [
        "Temp"
      ],
      "metadata": {
        "colab": {
          "base_uri": "https://localhost:8080/"
        },
        "id": "Zrzomz8MXi_2",
        "outputId": "8587f86a-7e28-4054-d57f-7e33d6fdec58"
      },
      "id": "Zrzomz8MXi_2",
      "execution_count": 76,
      "outputs": [
        {
          "output_type": "execute_result",
          "data": {
            "text/plain": [
              "295.4721551186601"
            ]
          },
          "metadata": {},
          "execution_count": 76
        }
      ]
    },
    {
      "cell_type": "code",
      "execution_count": 79,
      "metadata": {
        "id": "UJq0IRWDgJM7"
      },
      "outputs": [],
      "source": [
        "def integrate(en, forces_x, forces_y, x, xm, y, ym):\n",
        "\n",
        "    sumvx = 0\n",
        "    sumvy = 0\n",
        "    sumv2 = 0\n",
        "    vx = [0.0]*N\n",
        "    vy = [0.0]*N\n",
        "\n",
        "    for i in range(0,N):\n",
        "\n",
        "        xr = x[i] - xm[i]\n",
        "        xr = xr - box*np.round(xr/box)\n",
        "        xx = x[i] + xr + (dt*dt*forces_x[i]/m)*1E10\n",
        "        if xx >= box:\n",
        "          xx = xx - int(xx)\n",
        "        if xx < 0.0:\n",
        "          xx = xx - int(xx) + box\n",
        "\n",
        "        yr = y[i] - ym[i]\n",
        "        yr = yr - box*np.round(yr/box)\n",
        "        yy = y[i] + yr + (dt*dt*forces_y[i]/m)*1E10\n",
        "        if yy >= box:\n",
        "          yy = yy - int(yy)\n",
        "        if yy < 0.0:\n",
        "          yy = yy - int(yy) + box\n",
        "\n",
        "        xr = xx - xm[i]\n",
        "        xr = xr - box*np.round(xr/box)\n",
        "        vx[i] = (xr/(2*dt))*1E-10  # m/s\n",
        "        yr = yy - ym[i]\n",
        "        yr = yr - box*np.round(yr/box)\n",
        "        vy[i] = (yr/(2*dt))*1E-10  # m/s\n",
        "        sumvx = sumvx + vx[i]\n",
        "        sumvy = sumvy + vy[i]\n",
        "        sumv2 = sumv2 + vx[i]*vx[i] + vy[i]*vy[i]\n",
        "        xm[i] = x[i]\n",
        "        x[i] = xx\n",
        "        ym[i] = y[i]\n",
        "        y[i] = yy\n",
        "\n",
        "    pot = en\n",
        "    kin = (0.5*sumv2*m)\n",
        "    etot = pot + kin\n",
        "    Temp = kin/(kB*2*N)\n",
        "\n",
        "#    etot = (en + 0.5*sumv2)/N\n",
        "\n",
        "    return(Temp, pot, kin, etot, x, y, xm, ym)\n",
        "\n"
      ],
      "id": "UJq0IRWDgJM7"
    },
    {
      "cell_type": "code",
      "execution_count": 80,
      "metadata": {
        "id": "-02S_ZWugJM7"
      },
      "outputs": [],
      "source": [
        "def sample(x,y):\n",
        "\n",
        "    return(pair_distance(x,y))\n"
      ],
      "id": "-02S_ZWugJM7"
    },
    {
      "cell_type": "code",
      "execution_count": 81,
      "metadata": {
        "id": "QtCFgqsqgJM8"
      },
      "outputs": [],
      "source": [
        "def md(tmax,dt,nsamp):\n",
        "\n",
        "    x, y, vx, vy, xm, ym, pe_start, ke_start, temp_start = init()\n",
        "    t = 0\n",
        "    steps = round(tmax/dt)\n",
        "    s = int(steps/nsamp)\n",
        "    times = [0.0]*s\n",
        "    PE = [0.0]*s\n",
        "    KE = [0.0]*s\n",
        "    TE = [0.0]*s\n",
        "    Temp = [0.0]*s\n",
        "    pair_dist = [0.0]*s\n",
        "    k = 0\n",
        "    x_start = copy.deepcopy(x)\n",
        "    y_start = copy.deepcopy(y)\n",
        "\n",
        "    for i in range(0,steps):\n",
        "        en, fx, fy = force(x,y)\n",
        "        T, pe, ke, te, x, y, xm, ym = integrate(en, fx, fy, x, xm, y, ym)\n",
        "        t = t+dt\n",
        "        if math.fmod(i, nsamp) == 0.0:\n",
        "            k = int(i/nsamp)\n",
        "            PE[k] = pe\n",
        "            KE[k] = ke\n",
        "            TE[k] = te\n",
        "            Temp[k] = T\n",
        "            times[k] = t\n",
        "            pair_dist[k] = sample(x,y)\n",
        "        # xm = copy.deepcopy(xm_new)\n",
        "        # ym = copy.deepcopy(ym_new)\n",
        "        # x = copy.deepcopy(x_new)\n",
        "        # y = copy.deepcopy(y_new)\n",
        "\n",
        "#     plt.plot(times[:], PE[:], c = 'r')\n",
        "#     plt.plot(times[:], KE[:], c = 'b')\n",
        "#     plt.plot(times[:], TE[:], c = 'grey')\n",
        "#     plt.plot(times[:], Temp[:], c='k')\n",
        "#     plt.plot(times[:], pair_dist[:], c = 'g')\n",
        "\n",
        "    return(PE, KE, TE, Temp, x_start, y_start, x, y, pair_dist, times)\n",
        "\n"
      ],
      "id": "QtCFgqsqgJM8"
    },
    {
      "cell_type": "code",
      "execution_count": 82,
      "metadata": {
        "id": "BfFNXBj8gJM8"
      },
      "outputs": [],
      "source": [
        "tmax = 5e-9 # seconds\n",
        "dt = 1e-12  # seconds\n",
        "nsamp = 10\n",
        "\n",
        "PE, KE, TE, Temp, x_start, y_start, x_final, y_final, pair_dist, times = md(tmax,dt,nsamp)\n"
      ],
      "id": "BfFNXBj8gJM8"
    },
    {
      "cell_type": "code",
      "source": [
        "for i in range(0,len(times)):\n",
        "    PE[i] = PE[i]*1e+26\n",
        "    KE[i] = KE[i]*1e+26\n",
        "    TE[i] = TE[i]*1e+26\n",
        "\n",
        "plt.plot(times[:], PE[:], c = 'r')\n",
        "plt.plot(times[:], KE[:], c = 'b')\n",
        "plt.plot(times[:], TE[:], c = 'grey')\n"
      ],
      "metadata": {
        "colab": {
          "base_uri": "https://localhost:8080/",
          "height": 465
        },
        "id": "wQSjg-NuqY2I",
        "outputId": "a1d81b16-10b9-4c48-b2fe-7e20ac53f937"
      },
      "id": "wQSjg-NuqY2I",
      "execution_count": 83,
      "outputs": [
        {
          "output_type": "execute_result",
          "data": {
            "text/plain": [
              "[<matplotlib.lines.Line2D at 0x795b85003c90>]"
            ]
          },
          "metadata": {},
          "execution_count": 83
        },
        {
          "output_type": "display_data",
          "data": {
            "text/plain": [
              "<Figure size 640x480 with 1 Axes>"
            ],
            "image/png": "[encoded data removed]"
          },
          "metadata": {}
        }
      ]
    },
    {
      "cell_type": "code",
      "source": [
        "plt.plot(times[:], Temp[:], c='k')\n"
      ],
      "metadata": {
        "colab": {
          "base_uri": "https://localhost:8080/",
          "height": 465
        },
        "id": "y5IdDTZeqOJI",
        "outputId": "ae93abbc-733a-49b6-d9af-9e0ffb068923"
      },
      "id": "y5IdDTZeqOJI",
      "execution_count": 84,
      "outputs": [
        {
          "output_type": "execute_result",
          "data": {
            "text/plain": [
              "[<matplotlib.lines.Line2D at 0x795b850710d0>]"
            ]
          },
          "metadata": {},
          "execution_count": 84
        },
        {
          "output_type": "display_data",
          "data": {
            "text/plain": [
              "<Figure size 640x480 with 1 Axes>"
            ],
            "image/png": "[encoded data removed]"
          },
          "metadata": {}
        }
      ]
    },
    {
      "cell_type": "code",
      "source": [
        "Temp"
      ],
      "metadata": {
        "id": "xxK5wzpSLO4s",
        "outputId": "1adf1a82-cf7e-436b-854f-ae1590b332e1",
        "colab": {
          "base_uri": "https://localhost:8080/"
        }
      },
      "id": "xxK5wzpSLO4s",
      "execution_count": 72,
      "outputs": [
        {
          "output_type": "execute_result",
          "data": {
            "text/plain": [
              "[1.1171743294251144e-13,\n",
              " 4.887108636624512e-11,\n",
              " 1.8628263678861394e-10,\n",
              " 4.124413977128859e-10,\n",
              " 7.275038355469732e-10,\n",
              " 1.1316880532971016e-09,\n",
              " 1.6252740687976436e-09,\n",
              " 2.208604172721097e-09,\n",
              " 2.8820833668831925e-09,\n",
              " 3.6461798841955413e-09,\n",
              " 4.50142579256119e-09,\n",
              " 5.448417682973667e-09,\n",
              " 6.48781744422896e-09,\n",
              " 7.620353126975056e-09,\n",
              " 8.846819898830895e-09,\n",
              " 1.0168081092893812e-08,\n",
              " 1.158506935392448e-08,\n",
              " 1.3098787884164114e-08,\n",
              " 1.4710311792610073e-08,\n",
              " 1.6420789552607535e-08,\n",
              " 1.823144457050977e-08,\n",
              " 2.014438453465816e-08,\n",
              " 2.2160731858772952e-08,\n",
              " 2.428153605652769e-08,\n",
              " 2.6508339399324674e-08,\n",
              " 2.8842768886470816e-08,\n",
              " 3.128653860029288e-08,\n",
              " 3.3841452213488444e-08,\n",
              " 3.650940566055536e-08,\n",
              " 3.9292389979643996e-08,\n",
              " 4.2192494334110025e-08,\n",
              " 4.521190922668081e-08,\n",
              " 4.835292991348502e-08,\n",
              " 5.161865606681145e-08,\n",
              " 5.501503782660796e-08,\n",
              " 5.8540903778365515e-08,\n",
              " 6.21990112417417e-08,\n",
              " 6.599639322621426e-08,\n",
              " 6.994009402656438e-08,\n",
              " 7.402578947678813e-08,\n",
              " 7.825677812989487e-08,\n",
              " 8.263650639655029e-08,\n",
              " 8.716857487722264e-08,\n",
              " 9.1856745109118e-08,\n",
              " 9.670494675157057e-08,\n",
              " 1.0171728524579087e-07,\n",
              " 1.0689804998325652e-07,\n",
              " 1.122517230247791e-07,\n",
              " 1.1778298840809353e-07,\n",
              " 1.2349674209761692e-07,\n",
              " 1.2939810262135373e-07,\n",
              " 1.3549242245221072e-07,\n",
              " 1.4178530020240318e-07,\n",
              " 1.482889890620074e-07,\n",
              " 1.5502314375916282e-07,\n",
              " 1.6197545677445615e-07,\n",
              " 1.6915267991658354e-07,\n",
              " 1.7656188888720942e-07,\n",
              " 1.842105021782718e-07,\n",
              " 1.9210630144739658e-07,\n",
              " 2.0027203396791423e-07,\n",
              " 2.087049394988826e-07,\n",
              " 2.1741953234783534e-07,\n",
              " 2.264323710277555e-07,\n",
              " 2.357395194147761e-07,\n",
              " 2.453551908709706e-07,\n",
              " 2.5528694492343456e-07,\n",
              " 2.6555107773017775e-07,\n",
              " 2.761689851750404e-07,\n",
              " 2.8714063422193363e-07,\n",
              " 2.9850461684204614e-07,\n",
              " 3.102630770021116e-07,\n",
              " 3.2242047239949294e-07,\n",
              " 3.3500235488852833e-07,\n",
              " 3.4803463410337767e-07,\n",
              " 3.6151917815474636e-07,\n",
              " 3.75475698218151e-07,\n",
              " 3.899251874460089e-07,\n",
              " 4.0489003370650397e-07,\n",
              " 4.20394145207247e-07,\n",
              " 4.3646309084259573e-07,\n",
              " 4.531242573569453e-07,\n",
              " 4.7040702584532977e-07,\n",
              " 4.883429704970746e-07,\n",
              " 5.069741878147706e-07,\n",
              " 5.263632979760063e-07,\n",
              " 5.465527072213405e-07,\n",
              " 5.675795283229834e-07,\n",
              " 5.895031043652155e-07,\n",
              " 6.123446457733066e-07,\n",
              " 6.361741025383466e-07,\n",
              " 6.610363895161002e-07,\n",
              " 6.869930937364474e-07,\n",
              " 7.141296878870462e-07,\n",
              " 7.425563022066922e-07,\n",
              " 7.723416494305545e-07,\n",
              " 8.036032623811088e-07,\n",
              " 8.364744579604675e-07,\n",
              " 8.710877440631094e-07,\n",
              " 9.075702808831537e-07,\n",
              " 9.460422669103602e-07,\n",
              " 9.866995399881528e-07,\n",
              " 1.0297873598162762e-06,\n",
              " 1.0755088052720701e-06,\n",
              " 1.1241878269633613e-06,\n",
              " 1.176140280243005e-06,\n",
              " 1.2318139792208543e-06,\n",
              " 1.291637913880163e-06,\n",
              " 1.3561076216970313e-06,\n",
              " 1.4259040995304981e-06,\n",
              " 1.5018720032406642e-06,\n",
              " 1.5851670568311134e-06,\n",
              " 1.6771268422956771e-06,\n",
              " 1.7794924439580045e-06,\n",
              " 1.8946310926011323e-06,\n",
              " 2.0258158379013776e-06,\n",
              " 2.177680936879949e-06,\n",
              " 2.3572464519659874e-06,\n",
              " 2.575493815085767e-06,\n",
              " 2.8510878006997046e-06,\n",
              " 3.2189587843032242e-06,\n",
              " 3.754115777918371e-06,\n",
              " 4.655241434057362e-06,\n",
              " 6.756803358950179e-06,\n",
              " 0.0002677975545224195,\n",
              " 0.000266533769114606,\n",
              " 0.00026608532873466785,\n",
              " 0.00026638167258581473,\n",
              " 0.0002692985183868291,\n",
              " 0.0002727000166848026,\n",
              " 0.00027180912288436894,\n",
              " 0.0002718261648263323,\n",
              " 0.00027220034106507695,\n",
              " 0.0002727463893548434,\n",
              " 0.0002740495338540793,\n",
              " 0.00032269391608281115,\n",
              " 0.00034273799656749386,\n",
              " 0.00034191344393050434,\n",
              " 0.00034749410989162965,\n",
              " 0.0003429570587949943,\n",
              " 0.0003431331599928382,\n",
              " 0.0003443055643412848,\n",
              " 0.0003618662717055842,\n",
              " 0.00035304200635344715,\n",
              " 0.00035231758527886405,\n",
              " 0.00035179439178705397,\n",
              " 0.0003519971745128078,\n",
              " 0.00035324801747922983,\n",
              " 0.00035960197843363926,\n",
              " 0.00035297639592685886,\n",
              " 0.000352386827887754,\n",
              " 0.00035277137476629394,\n",
              " 0.0003540635882327906,\n",
              " 0.00036015606788425745,\n",
              " 0.0003621219610340652,\n",
              " 0.00036298635360551817,\n",
              " 0.000364726243088786,\n",
              " 0.0003750656965619118,\n",
              " 0.0003696226526212034,\n",
              " 0.00036731925715910457,\n",
              " 0.0007834657649909838,\n",
              " 0.000783715182012801,\n",
              " 0.0007984334887147955,\n",
              " 0.0007851251921516493,\n",
              " 0.0007853558679958738,\n",
              " 0.000787423974236034,\n",
              " 0.0007973601504452667,\n",
              " 0.0012434748512928852,\n",
              " 0.0012440046232912005,\n",
              " 0.0012450835176808508,\n",
              " 0.001244213629686491,\n",
              " 0.0012436621119450504,\n",
              " 0.0012438664940195195,\n",
              " 0.0012443635587993233,\n",
              " 0.0012446039506171344,\n",
              " 0.001245105703051715,\n",
              " 0.0012456614367647412,\n",
              " 0.0012480857277974594,\n",
              " 0.0012480903158708207,\n",
              " 0.0012476590193681624,\n",
              " 0.0012458733745827847,\n",
              " 0.00124542834119789,\n",
              " 0.0012451590734334325,\n",
              " 0.0012783965621018139,\n",
              " 0.0013243703583631068,\n",
              " 0.001323872414721076,\n",
              " 0.0013236048746215884,\n",
              " 0.001323595334208694,\n",
              " 0.0013237908908734334,\n",
              " 0.0013238927552973296,\n",
              " 0.0013239783329136413,\n",
              " 0.001324340985030879,\n",
              " 0.001325361213302955,\n",
              " 0.0013258299859893235,\n",
              " 0.0013270938686400534,\n",
              " 0.0013261353699159817,\n",
              " 0.0013278716191868693,\n",
              " 0.0013280145067900507,\n",
              " 0.0013282113952925569,\n",
              " 0.0013275709449201254,\n",
              " 0.0013265216778892762,\n",
              " 0.0013263705373081976,\n",
              " 0.0013304335216844877,\n",
              " 0.0013274389648613924,\n",
              " 0.0013264414406501748,\n",
              " 0.0013262967088075795,\n",
              " 0.001326673872610641,\n",
              " 0.001329227632548449,\n",
              " 0.001328750508862453,\n",
              " 0.0013283765179713698,\n",
              " 0.001328614940873938,\n",
              " 0.0013320933382220926,\n",
              " 0.001333832183318931,\n",
              " 0.0013295425607821858,\n",
              " 0.001328750889233222,\n",
              " 0.0013287347482320148,\n",
              " 0.0013291765959027116,\n",
              " 0.001330382268669308,\n",
              " 0.0013323448156375927,\n",
              " 0.0013310499592955895,\n",
              " 0.0013360162940135463,\n",
              " 0.0013391678887836554,\n",
              " 0.0013358680518710264,\n",
              " 0.0013348679665514968,\n",
              " 0.0013309160781049612,\n",
              " 0.0013303323223122468,\n",
              " 0.001339621419813728,\n",
              " 0.001487942354383622,\n",
              " 0.0014887015771000661,\n",
              " 0.0014204434097492445,\n",
              " 0.001420715184526471,\n",
              " 0.0014240075665886112,\n",
              " 0.001433502374621703,\n",
              " 0.0014614955712776005,\n",
              " 0.0014550996733110188,\n",
              " 0.0014524823793741354,\n",
              " 0.001452694028070889,\n",
              " 0.0014544408292479318,\n",
              " 0.0014568943814915589,\n",
              " 0.0014555576063818192,\n",
              " 0.0014548439732971297,\n",
              " 0.0014558297667688156,\n",
              " 0.0014543961837033678,\n",
              " 0.0014554249259821682,\n",
              " 0.0014589417532412322,\n",
              " 0.0014624405293506137,\n",
              " 0.0014554547256940525,\n",
              " 0.001454935579279854,\n",
              " 0.0014559145459965808,\n",
              " 0.0014556364567608498,\n",
              " 0.0014551984671444204,\n",
              " 0.001455955133954727,\n",
              " 0.0014558561417465127,\n",
              " 0.0014582727117588333,\n",
              " 0.0014581107730124124,\n",
              " 0.0014549925429931903,\n",
              " 0.0014540096280223475,\n",
              " 0.0014538625571811998,\n",
              " 0.0014546153420339507,\n",
              " 0.001460408590439134,\n",
              " 0.0026171359469662077,\n",
              " 0.0026172639158514983,\n",
              " 0.0026161767873011505,\n",
              " 0.0026158271796184185,\n",
              " 0.0026198652509593252,\n",
              " 0.0026140744795927163,\n",
              " 0.002614418751752378,\n",
              " 0.0026156171233637647,\n",
              " 0.0026194869699639627,\n",
              " 0.002618812761950221,\n",
              " 0.0026170745387486248,\n",
              " 0.002615908754227509,\n",
              " 0.0026167583930235667,\n",
              " 0.002618829239851354,\n",
              " 0.0026164147160576694,\n",
              " 0.002615793911456186,\n",
              " 0.002615515525430823,\n",
              " 0.00261590326104596,\n",
              " 0.0026167710926094786,\n",
              " 0.0026198070590003914,\n",
              " 0.002615499892183112,\n",
              " 0.002614349821658502,\n",
              " 0.0026141765234090077,\n",
              " 0.0026134337024732866,\n",
              " 0.002614734787600478,\n",
              " 0.002614081113624567,\n",
              " 0.002614376865357861,\n",
              " 0.0026149365520463574,\n",
              " 0.0026165663321222744,\n",
              " 0.0026164878826700185,\n",
              " 0.002615237629797389,\n",
              " 0.0026135342233179265,\n",
              " 0.0025563711820694914,\n",
              " 0.0025567908811025223,\n",
              " 0.0025577695712284817,\n",
              " 0.0025576918819697927,\n",
              " 0.002559562522687976,\n",
              " 0.002560069446280205,\n",
              " 0.0025610501392724773,\n",
              " 0.0025541359079662563,\n",
              " 0.0025549409548737646,\n",
              " 0.0025536646932699894,\n",
              " 0.002554722347677971,\n",
              " 0.0025553018565703557,\n",
              " 0.0025543284067086605,\n",
              " 0.002553833427827653,\n",
              " 0.0025599138363531677,\n",
              " 0.0025531268761174336,\n",
              " 0.002555186175738495,\n",
              " 0.0025549697573770632,\n",
              " 0.0025519313983546265,\n",
              " 0.002552727670581275,\n",
              " 0.0025531206794960153,\n",
              " 0.0025576844631564457,\n",
              " 0.0025574893475740668,\n",
              " 0.00256380076210844,\n",
              " 0.002556461705981904,\n",
              " 0.0025560749540067627,\n",
              " 0.002561886358514685,\n",
              " 0.002623863944804737,\n",
              " 0.002626651203946331,\n",
              " 0.002628543951622031,\n",
              " 0.0026318316301412077,\n",
              " 0.01213207225441082,\n",
              " 0.012127646919387025,\n",
              " 0.012126673095204002,\n",
              " 0.012123300701241787,\n",
              " 0.012119014833126196,\n",
              " 0.012122014580721065,\n",
              " 0.012120973907226192,\n",
              " 0.012123016535469766,\n",
              " 0.012116300293189823,\n",
              " 0.012115572252570582,\n",
              " 0.012124259565446207,\n",
              " 0.012113923300615106,\n",
              " 0.012112602415574816,\n",
              " 0.012114059232359947,\n",
              " 0.012114811282845578,\n",
              " 0.012122105924879258,\n",
              " 0.012114998956964041,\n",
              " 0.012125871820211576,\n",
              " 0.012116520477312261,\n",
              " 0.012114005099810171,\n",
              " 0.01211300506863545,\n",
              " 0.012114176642916545,\n",
              " 0.012112326538737924,\n",
              " 0.012112280559891199,\n",
              " 0.012114353988518194,\n",
              " 0.012114543159031557,\n",
              " 0.012101587924135083,\n",
              " 0.012100161113649014,\n",
              " 0.012098603777155851,\n",
              " 0.012099003165979314,\n",
              " 0.012096208528679625,\n",
              " 0.012094907247971133,\n",
              " 0.012094538702794606,\n",
              " 0.012094650663989957,\n",
              " 0.012094709078333675,\n",
              " 0.012095169415403723,\n",
              " 0.012096427436925893,\n",
              " 0.012095156680428534,\n",
              " 0.01209677590477523,\n",
              " 0.012096721231393798,\n",
              " 0.012102468463720158,\n",
              " 0.012101542702652356,\n",
              " 0.012101814123731599,\n",
              " 0.012098762636989686,\n",
              " 0.012097126412808107,\n",
              " 0.012098170507696977,\n",
              " 0.012095023695220567,\n",
              " 0.012105425546923322,\n",
              " 0.01210451357643965,\n",
              " 0.01210237346989997,\n",
              " 0.012105175516757391,\n",
              " 0.012098291563126041,\n",
              " 0.01209723533232244,\n",
              " 0.012105161598231223,\n",
              " 0.01210281056855454,\n",
              " 0.012102717919768299,\n",
              " 0.012102983042614535,\n",
              " 0.012106318662001877,\n",
              " 0.012109266605005742,\n",
              " 0.012104149636326316,\n",
              " 0.012105232781118328,\n",
              " 0.01210244530024752,\n",
              " 0.012106324027775834,\n",
              " 0.012105919488808466,\n",
              " 0.012105508361007598,\n",
              " 0.012105839025427079,\n",
              " 0.012107289082375102,\n",
              " 0.012109078505150306,\n",
              " 0.012106774802390337,\n",
              " 0.012108941640115023,\n",
              " 0.012110549032641173,\n",
              " 0.012106984548377839,\n",
              " 0.01210868074701738,\n",
              " 0.0120910374407009,\n",
              " 0.012092124399118049,\n",
              " 0.012093469161455067,\n",
              " 0.012098466532548641,\n",
              " 0.01209371202003908,\n",
              " 0.012092638782907991,\n",
              " 0.012104533743395372,\n",
              " 0.012117054613340639,\n",
              " 0.012116186109884353,\n",
              " 0.01212220868714694,\n",
              " 0.012114985987934654,\n",
              " 0.01211466098184642,\n",
              " 0.012114230751285494,\n",
              " 0.012167953915699255,\n",
              " 0.012167083990600189,\n",
              " 0.012161726265356075,\n",
              " 0.01216119656651704,\n",
              " 0.012161015083372381,\n",
              " 0.012161538949893302,\n",
              " 0.012169029588039238,\n",
              " 0.012490484129912058,\n",
              " 0.012486633749643932,\n",
              " 0.012500710888211254,\n",
              " 0.012505390999823467,\n",
              " 0.01250119406894949,\n",
              " 0.01250484034686363,\n",
              " 0.012500873885076222,\n",
              " 0.012500503404111848,\n",
              " 0.012500235774082012,\n",
              " 0.012502052862186063,\n",
              " 0.012512569439251851,\n",
              " 0.012491426800356814,\n",
              " 0.01249023001902009,\n",
              " 0.012489311698449962,\n",
              " 0.012491842381803722,\n",
              " 0.012550470319535791,\n",
              " 0.012550450433618906,\n",
              " 0.012551669493006271,\n",
              " 0.012542973108091993,\n",
              " 0.012531219856844812,\n",
              " 0.012528440644358926,\n",
              " 0.012531454330324963,\n",
              " 0.012536776190901013,\n",
              " 0.012536221960393524,\n",
              " 0.012537977998714974,\n",
              " 0.012536924311930436,\n",
              " 0.012540355455875398,\n",
              " 0.012536995815670113,\n",
              " 0.012537924689212335,\n",
              " 0.01254398681407275,\n",
              " 0.012546904999366603,\n",
              " 0.01254807366972881,\n",
              " 0.012548573165459773,\n",
              " 0.012552753899945554,\n",
              " 0.012551326628959735,\n",
              " 0.012549816375491086,\n",
              " 0.012581028671772682,\n",
              " 0.012579821499581418,\n",
              " 0.012590499188600467,\n",
              " 0.012599247670700194,\n",
              " 0.012648914994922532,\n",
              " 0.012649825292983906,\n",
              " 0.012649266941572888,\n",
              " 0.012651199292750635,\n",
              " 0.012654576731491222,\n",
              " 0.012653501307585661,\n",
              " 0.012653775132114858,\n",
              " 0.012652197763839827,\n",
              " 0.012653246004748164,\n",
              " 0.01266291284454806,\n",
              " 0.01266496374008551,\n",
              " 0.012666053764275756,\n",
              " 0.012669367313417577,\n",
              " 0.012668953638930143,\n",
              " 0.012669103086939864,\n",
              " 0.01266919300724877,\n",
              " 0.01266777338441434,\n",
              " 0.012668677654169146,\n",
              " 0.012668749432905468,\n",
              " 0.012668468958166767,\n",
              " 0.012671107598053762,\n",
              " 0.012670834215199513,\n",
              " 0.012670736355345673,\n",
              " 0.012672941858709244,\n",
              " 0.012675764590422776,\n",
              " 0.01267337565069158,\n",
              " 0.012691034204567532,\n",
              " 0.012693645527605686,\n",
              " 0.01268902346659312,\n",
              " 0.012687887550001265,\n",
              " 0.012683416128823715,\n",
              " 0.012683382799869344,\n",
              " 0.012872307243617745,\n",
              " 0.012871459290135992,\n",
              " 0.012871496766041837,\n",
              " 0.012879570842397298,\n",
              " 0.012878698124645748,\n",
              " 0.012879365518296642,\n",
              " 0.012894508784090538,\n",
              " 0.012892892881347382,\n",
              " 0.012891637492059268,\n",
              " 0.012892128527500579,\n",
              " 0.012894830849092745,\n",
              " 0.0129323474794024]"
            ]
          },
          "metadata": {},
          "execution_count": 72
        }
      ]
    },
    {
      "cell_type": "code",
      "source": [
        "plt.plot(times[:], pair_dist[:], c = 'g')"
      ],
      "metadata": {
        "id": "eIphUQ1chLeK",
        "outputId": "5cd10de1-bc07-41d8-eec9-dfbf1f55e42b",
        "colab": {
          "base_uri": "https://localhost:8080/",
          "height": 465
        }
      },
      "id": "eIphUQ1chLeK",
      "execution_count": 85,
      "outputs": [
        {
          "output_type": "execute_result",
          "data": {
            "text/plain": [
              "[<matplotlib.lines.Line2D at 0x795b854a5650>]"
            ]
          },
          "metadata": {},
          "execution_count": 85
        },
        {
          "output_type": "display_data",
          "data": {
            "text/plain": [
              "<Figure size 640x480 with 1 Axes>"
            ],
            "image/png": "[encoded data removed]"
          },
          "metadata": {}
        }
      ]
    },
    {
      "cell_type": "code",
      "execution_count": 86,
      "metadata": {
        "colab": {
          "base_uri": "https://localhost:8080/",
          "height": 430
        },
        "id": "vKG-hrS8gJM8",
        "outputId": "eb301cf8-6ce8-4a22-98e0-421b75d339ca"
      },
      "outputs": [
        {
          "output_type": "display_data",
          "data": {
            "text/plain": [
              "<Figure size 640x480 with 1 Axes>"
            ],
            "image/png": "[encoded data removed]"
          },
          "metadata": {}
        }
      ],
      "source": [
        "for i in range(0,N):\n",
        "    plt.scatter(x_start[i],y_start[i],c='k')\n",
        "    plt.scatter(x_final[i],y_final[i],c='r')\n",
        "plt.show()\n"
      ],
      "id": "vKG-hrS8gJM8"
    },
    {
      "cell_type": "code",
      "source": [
        "## Run this cell only for Anderson thermostat (to keep temp fixed) ##\n",
        "\n",
        "def integrate(switch, en, forces_x, forces_y, x, y, vx, vy, temp, dt):\n",
        "\n",
        "    sumv2 = 0\n",
        "    vx = [0.0]*N\n",
        "    vy = [0.0]*N\n",
        "    nu = 8*(1e11)\n",
        "    Temp = 0\n",
        "\n",
        "\n",
        "    if switch == 1:\n",
        "\n",
        "        for i in range(0,N):\n",
        "\n",
        "            x[i] = x[i] + vx[i]*(1E10)*dt + dt*dt*forces_x[i]*(1E10)/(2*m)\n",
        "            if x[i] >= box:\n",
        "                x[i] = x[i] - int(x[i])\n",
        "            if x[i] < 0.0:\n",
        "                x[i] = x[i] - int(x[i]) + box\n",
        "            vx[i] = vx[i] + dt*forces_x[i]/(2*m)\n",
        "\n",
        "            y[i] = y[i] + vy[i]*(1E10)*dt + dt*dt*forces_y[i]*(1E10)/(2*m)\n",
        "            if y[i] >= box:\n",
        "                y[i] = y[i] - int(y[i])\n",
        "            if y[i] < 0.0:\n",
        "                y[i] = y[i] - int(y[i]) + box\n",
        "            vy[i] = vy[i] + dt*forces_y[i]/(2*m)\n",
        "\n",
        "\n",
        "    elif switch == 2:\n",
        "\n",
        "        tempa = 0\n",
        "\n",
        "        for i in range(0,N):\n",
        "            vx[i] = vx[i] + dt*forces_x[i]/(2*m)\n",
        "            vy[i] = vy[i] + dt*forces_y[i]/(2*m)\n",
        "            tempa = tempa + ((vx[i]*vx[i]+vy[i]*vy[i])*m)/kB\n",
        "        tempa = tempa/(2*N)\n",
        "        sigma = np.sqrt(kB*temp/m)\n",
        "        samples = np.random.normal(loc=0, scale=sigma, size=1000)\n",
        "        for i in range(0,N):\n",
        "            if np.random.rand() < nu*dt:\n",
        "                vx[i] = samples[np.random.randint(0,1000)]\n",
        "                vy[i] = samples[np.random.randint(0,1000)]\n",
        "\n",
        "        Temp = Temp + tempa\n",
        "\n",
        "    sumv2 = sumv2 + vx[i]*vx[i] + vy[i]*vy[i]\n",
        "\n",
        "    pot = en\n",
        "    kin = (0.5*sumv2*m)\n",
        "    etot = pot + kin\n",
        "#    Temp = kin/kB\n",
        "\n",
        "#    etot = (en + 0.5*sumv2)/N\n",
        "\n",
        "    return(Temp, pot, kin, etot, x, y, vx, vy)\n",
        "\n"
      ],
      "metadata": {
        "id": "wFST84HxkbA7"
      },
      "id": "wFST84HxkbA7",
      "execution_count": 95,
      "outputs": []
    },
    {
      "cell_type": "code",
      "source": [
        "sigma = np.sqrt(2*kB*Temp_start/m)\n",
        "samples = np.random.normal(loc=0, scale=sigma, size=1000)\n",
        "vx = [0.0]*N\n",
        "vy = [0.0]*N\n",
        "sumv2 = 0\n",
        "for i in range(0,N):\n",
        "    vx[i] = samples[np.random.randint(0,1000)]\n",
        "    vy[i] = samples[np.random.randint(0,1000)]\n",
        "    sumv2 = sumv2 + vx[i]*vx[i] + vy[i]*vy[i]\n",
        "print(Temp_start, ',', m*sumv2/(2*N*kB))"
      ],
      "metadata": {
        "id": "pBjE0BoDyxfs",
        "outputId": "292fe02b-2321-4298-fba9-4fb9d46e93ef",
        "colab": {
          "base_uri": "https://localhost:8080/"
        }
      },
      "id": "pBjE0BoDyxfs",
      "execution_count": null,
      "outputs": [
        {
          "output_type": "stream",
          "name": "stdout",
          "text": [
            "300 , 618.9701977662103\n"
          ]
        }
      ]
    },
    {
      "cell_type": "code",
      "source": [
        "nu = 5*(1e11)\n",
        "print(nu*dt)"
      ],
      "metadata": {
        "id": "YzEMCNbOy6Jr",
        "outputId": "bfcd3eed-46f4-4752-8504-ea6fa87894b8",
        "colab": {
          "base_uri": "https://localhost:8080/"
        }
      },
      "id": "YzEMCNbOy6Jr",
      "execution_count": null,
      "outputs": [
        {
          "output_type": "stream",
          "name": "stdout",
          "text": [
            "0.5\n"
          ]
        }
      ]
    },
    {
      "cell_type": "code",
      "source": [
        "m*samples[0]*samples[0]/kB"
      ],
      "metadata": {
        "id": "zn0dd8T4kz2Z",
        "outputId": "45f633d0-4d28-47f0-c3ae-e5497a5b9e82",
        "colab": {
          "base_uri": "https://localhost:8080/"
        }
      },
      "id": "zn0dd8T4kz2Z",
      "execution_count": null,
      "outputs": [
        {
          "output_type": "execute_result",
          "data": {
            "text/plain": [
              "49.252351982879944"
            ]
          },
          "metadata": {},
          "execution_count": 37
        }
      ]
    },
    {
      "cell_type": "code",
      "source": [
        "## Example of Gaussian distribution ##\n",
        "\n",
        "import numpy as np\n",
        "\n",
        "sigma = 2.5  # Set the desired sigma value\n",
        "samples = np.random.normal(loc=0, scale=sigma, size=1000)\n",
        "\n",
        "# Print some of the samples\n",
        "print(samples[:10])\n",
        "\n",
        "plt.hist(samples, bins=50)\n",
        "plt.show()"
      ],
      "metadata": {
        "id": "p3VHP6Hwkb0w"
      },
      "id": "p3VHP6Hwkb0w",
      "execution_count": null,
      "outputs": []
    },
    {
      "cell_type": "code",
      "source": [
        "def md_anderson(tmax,dt,nsamp,T):\n",
        "\n",
        "    x, y, vx, vy, xm, ym, pe_start, ke_start, temp_start = init()\n",
        "    en, fx, fy = force(x,y)\n",
        "    t = 0\n",
        "    steps = round(tmax/dt)\n",
        "    s = int(steps/nsamp)\n",
        "    times = [0.0]*s\n",
        "    PE = [0.0]*s\n",
        "    KE = [0.0]*s\n",
        "    TE = [0.0]*s\n",
        "    Temp = [0.0]*s\n",
        "    pair_dist = [0.0]*s\n",
        "\n",
        "    x_start = copy.deepcopy(x)\n",
        "    y_start = copy.deepcopy(y)\n",
        "    k = 0\n",
        "\n",
        "    for i in range(0,steps):\n",
        "        T, pe, ke, te, x, y, vx, vy = integrate(1, en, fx, fy, x, y, vx, vy, T, dt)\n",
        "        en, fx, fy = force(x,y)\n",
        "        T, pe, ke, te, x, y, vx, vy = integrate(2, en, fx, fy, x, y, vx, vy, T, dt)\n",
        "        t = t+dt\n",
        "        if math.fmod(i, nsamp) == 0.0:\n",
        "            k = int(i/nsamp)\n",
        "            PE[k] = pe\n",
        "            KE[k] = ke\n",
        "            TE[k] = te\n",
        "            Temp[k] = T\n",
        "            times[k] = t\n",
        "            pair_dist[k] = sample(x,y)\n",
        "\n",
        "    return(PE, KE, TE, Temp, x_start, y_start, x, y, pair_dist, times)\n"
      ],
      "metadata": {
        "id": "uLTnE17PkkBQ"
      },
      "id": "uLTnE17PkkBQ",
      "execution_count": 97,
      "outputs": []
    },
    {
      "cell_type": "code",
      "source": [
        "Temp_hold = 300  # Kelvin\n",
        "tmax = 1e-9 # seconds\n",
        "dt = 1e-12  # seconds\n",
        "nsamp = 10\n",
        "\n",
        "PE, KE, TE, Temp, x_start, y_start, x_final, y_final, pair_dist, times = md_anderson(tmax,dt,nsamp,Temp_hold)\n"
      ],
      "metadata": {
        "id": "lZnLhPcmvZZe"
      },
      "id": "lZnLhPcmvZZe",
      "execution_count": 98,
      "outputs": []
    },
    {
      "cell_type": "code",
      "source": [
        "for i in range(0,len(times)):\n",
        "    PE[i] = PE[i]*1e26\n",
        "    KE[i] = KE[i]*1e26\n",
        "    TE[i] = TE[i]*1e26\n",
        "\n",
        "plt.plot(times[:], PE[:], c = 'r')\n",
        "plt.plot(times[:], KE[:], c = 'b')\n",
        "plt.plot(times[:], TE[:], c = 'grey')\n"
      ],
      "metadata": {
        "id": "Urbj_D-MvuFd",
        "outputId": "8fcbac6e-75b4-4033-9d17-fb52c0a1d896",
        "colab": {
          "base_uri": "https://localhost:8080/",
          "height": 465
        }
      },
      "id": "Urbj_D-MvuFd",
      "execution_count": 99,
      "outputs": [
        {
          "output_type": "execute_result",
          "data": {
            "text/plain": [
              "[<matplotlib.lines.Line2D at 0x795b854c6750>]"
            ]
          },
          "metadata": {},
          "execution_count": 99
        },
        {
          "output_type": "display_data",
          "data": {
            "text/plain": [
              "<Figure size 640x480 with 1 Axes>"
            ],
            "image/png": "[encoded data removed]"
          },
          "metadata": {}
        }
      ]
    },
    {
      "cell_type": "code",
      "source": [
        "plt.plot(times[:], Temp[:], c='k')\n"
      ],
      "metadata": {
        "id": "XxeD1Iobvwv5",
        "outputId": "5b48844f-3f5f-4164-f61b-b497f0edf138",
        "colab": {
          "base_uri": "https://localhost:8080/",
          "height": 480
        }
      },
      "id": "XxeD1Iobvwv5",
      "execution_count": 100,
      "outputs": [
        {
          "output_type": "execute_result",
          "data": {
            "text/plain": [
              "[<matplotlib.lines.Line2D at 0x795b85679990>]"
            ]
          },
          "metadata": {},
          "execution_count": 100
        },
        {
          "output_type": "display_data",
          "data": {
            "text/plain": [
              "<Figure size 640x480 with 1 Axes>"
            ],
            "image/png": "[encoded data removed]"
          },
          "metadata": {}
        }
      ]
    },
    {
      "cell_type": "code",
      "source": [
        "plt.plot(times[:], pair_dist[:], c = 'g')\n"
      ],
      "metadata": {
        "id": "DlPQypvVp199",
        "outputId": "20da46ce-1277-4431-9b82-5dd1098898f0",
        "colab": {
          "base_uri": "https://localhost:8080/",
          "height": 480
        }
      },
      "id": "DlPQypvVp199",
      "execution_count": 101,
      "outputs": [
        {
          "output_type": "execute_result",
          "data": {
            "text/plain": [
              "[<matplotlib.lines.Line2D at 0x795b85496e10>]"
            ]
          },
          "metadata": {},
          "execution_count": 101
        },
        {
          "output_type": "display_data",
          "data": {
            "text/plain": [
              "<Figure size 640x480 with 1 Axes>"
            ],
            "image/png": "[encoded data removed]"
          },
          "metadata": {}
        }
      ]
    },
    {
      "cell_type": "code",
      "source": [
        "for i in range(0,N):\n",
        "    plt.scatter(x_start[i],y_start[i],c='k')\n",
        "    plt.scatter(x_final[i],y_final[i],c='r')\n",
        "plt.show()\n"
      ],
      "metadata": {
        "id": "0TjYoHqZvucF",
        "outputId": "c14f914d-6186-42c6-deef-92d149ed9c84",
        "colab": {
          "base_uri": "https://localhost:8080/",
          "height": 430
        }
      },
      "id": "0TjYoHqZvucF",
      "execution_count": 102,
      "outputs": [
        {
          "output_type": "display_data",
          "data": {
            "text/plain": [
              "<Figure size 640x480 with 1 Axes>"
            ],
            "image/png": "[encoded data removed]"
          },
          "metadata": {}
        }
      ]
    },
    {
      "cell_type": "code",
      "source": [],
      "metadata": {
        "id": "DraYmLPrxlAA"
      },
      "id": "DraYmLPrxlAA",
      "execution_count": null,
      "outputs": []
    },
    {
      "cell_type": "code",
      "source": [
        "###  Use this for Lennard Jones Potential  ##\n",
        "###  (https://en.wikipedia.org/wiki/Lennard-Jones_potential)\n",
        "\n",
        "def force(x_all,y_all):\n",
        "\n",
        "    en = 0\n",
        "    forces_x = [0.0]*N\n",
        "    forces_y = [0.0]*N\n",
        "    rc = 0.2\n",
        "    eps = 1e-42\n",
        "\n",
        "    for i in range (0,N-1):\n",
        "        for j in range (i+1,N):\n",
        "            xr = x_all[i] - x_all[j]\n",
        "            xr = xr - box*np.round(xr/box)\n",
        "            yr = y_all[i] - y_all[j]\n",
        "            yr = yr - box*np.round(yr/box)\n",
        "\n",
        "            r2 = xr*xr + yr*yr\n",
        "\n",
        "            if r2 <= rc*rc:\n",
        "                r2i = 1/r2\n",
        "                r6i = np.power(r2i,3)\n",
        "                ff = 48*eps*r2i*r6i*(r6i-0.5)\n",
        "                forces_x[i] = forces_x[i] + ff*xr\n",
        "                forces_x[j] = forces_x[j] - ff*xr\n",
        "                forces_y[i] = forces_y[i] + ff*yr\n",
        "                forces_y[j] = forces_y[j] - ff*yr\n",
        "                en = (en + 4*eps*r6i*(r6i-1))\n",
        "\n",
        "    return(en,forces_x,forces_y)\n"
      ],
      "metadata": {
        "id": "4CJ2x1F3kqx1"
      },
      "id": "4CJ2x1F3kqx1",
      "execution_count": null,
      "outputs": []
    }
  ],
  "metadata": {
    "kernelspec": {
      "display_name": "Python 3",
      "language": "python",
      "name": "python3"
    },
    "language_info": {
      "codemirror_mode": {
        "name": "ipython",
        "version": 3
      },
      "file_extension": ".py",
      "mimetype": "text/x-python",
      "name": "python",
      "nbconvert_exporter": "python",
      "pygments_lexer": "ipython3",
      "version": "3.8.5"
    },
    "colab": {
      "provenance": []
    }
  },
  "nbformat": 4,
  "nbformat_minor": 5
}