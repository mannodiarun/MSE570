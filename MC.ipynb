{
 "cells": [
  {
   "cell_type": "code",
   "execution_count": 254,
   "metadata": {},
   "outputs": [],
   "source": [
    "import numpy as np\n",
    "import math\n",
    "import matplotlib.pyplot as plt\n",
    "\n",
    "N = 50\n",
    "x_all = [0.0]*N\n",
    "y_all = [0.0]*N\n",
    "box = 1\n",
    "\n",
    "k=0\n",
    "for i in range (0,int(N/5)):\n",
    "    for j in range(0,int(N/10)):\n",
    "        x_all[k] = i*0.1*box\n",
    "        if math.fmod(i,2) == 0.0:\n",
    "#            y_all[k] = j*0.2*box + (np.random.rand()-0.5)*0.1\n",
    "            y_all[k] = j*0.2*box\n",
    "        else:\n",
    "#            y_all[k] = j*0.2*box + 0.1 + (np.random.rand()-0.5)*0.1\n",
    "            y_all[k] = j*0.2*box + 0.1\n",
    "        k=k+1\n",
    "        \n",
    "x_start = [0.0]*N\n",
    "y_start = [0.0]*N\n",
    "for i in range (0,N):\n",
    "    x_start[i] = x_all[i]\n",
    "    y_start[i] = y_all[i]\n",
    "    \n",
    "kB = 1\n",
    "T = 1\n",
    "beta = 1/(kB*T)\n",
    "v = -1\n"
   ]
  },
  {
   "cell_type": "code",
   "execution_count": 255,
   "metadata": {},
   "outputs": [
    {
     "data": {
      "image/png": "[encoded data removed]",
      "text/plain": [
       "<Figure size 432x288 with 1 Axes>"
      ]
     },
     "metadata": {
      "needs_background": "light"
     },
     "output_type": "display_data"
    }
   ],
   "source": [
    "##  Visualize starting configuration  ##\n",
    "\n",
    "for i in range(0,N):\n",
    "    plt.scatter(x_start[i],y_start[i],c='k')\n",
    "plt.show()\n"
   ]
  },
  {
   "cell_type": "code",
   "execution_count": 256,
   "metadata": {},
   "outputs": [],
   "source": [
    "###  Use this for Simple Pairwise Potential  ##\n",
    "###  (https://en.wikipedia.org/wiki/Pair_potential)\n",
    "\n",
    "def energy(x_all,y_all):\n",
    "    \n",
    "    en = 0\n",
    "    \n",
    "    for i in range (0,N-1):\n",
    "        for j in range (i+1,N):\n",
    "            xr = x_all[i] - x_all[j]\n",
    "            xr = xr - box*np.round(xr/box)\n",
    "            yr = y_all[i] - y_all[j]\n",
    "            yr = yr - box*np.round(yr/box)\n",
    "            r = np.sqrt(xr*xr + yr*yr)\n",
    "            en = en + v*r\n",
    "\n",
    "    return(en)\n"
   ]
  },
  {
   "cell_type": "code",
   "execution_count": 91,
   "metadata": {},
   "outputs": [],
   "source": [
    "###  Use this for Lennard Jones Potential  ##\n",
    "###  (https://en.wikipedia.org/wiki/Lennard-Jones_potential)\n",
    "\n",
    "def energy(x_all,y_all):\n",
    "    \n",
    "    en = 0\n",
    "    forces_x = [0.0]*N\n",
    "    forces_y = [0.0]*N\n",
    "    rc = 0.2\n",
    "    \n",
    "    for i in range (0,N-1):\n",
    "        for j in range (i+1,N):\n",
    "            xr = x_all[i] - x_all[j]\n",
    "            xr = xr - box*np.round(xr/box)\n",
    "            yr = y_all[i] - y_all[j]\n",
    "            yr = yr - box*np.round(yr/box)\n",
    "        \n",
    "            r2 = xr*xr + yr*yr\n",
    "            \n",
    "            if r2 <= rc*rc:\n",
    "                r2i = 1/r2\n",
    "                r6i = np.power(r2i,3)\n",
    "                ff = 48*r2i*r6i*(r6i-0.5)\n",
    "                forces_x[i] = forces_x[i] + ff*xr\n",
    "                forces_x[j] = forces_x[j] - ff*xr\n",
    "                forces_y[i] = forces_y[i] + ff*yr\n",
    "                forces_y[j] = forces_y[j] - ff*yr\n",
    "                en = (en + 4*r6i*(r6i-1))\n",
    "\n",
    "    return(en)\n"
   ]
  },
  {
   "cell_type": "code",
   "execution_count": 257,
   "metadata": {},
   "outputs": [],
   "source": [
    "def mcmove(x_all,y_all):\n",
    "    \n",
    "    rr = np.random.rand()\n",
    "    \n",
    "    o = int(rr*N)\n",
    "    temp_x = x_all[o]\n",
    "    temp_y = y_all[o]\n",
    "    \n",
    "    eno = energy(x_all,y_all)\n",
    "    \n",
    "    x_all[o] = x_all[o] + (rr-0.5)*0.005\n",
    "    y_all[o] = y_all[o] + (rr-0.5)*0.005\n",
    "    \n",
    "    enn = energy(x_all,y_all)\n",
    "\n",
    "    if ( rr < min(np.exp(-beta*(enn-eno)),1) ):\n",
    "        eno = enn\n",
    "    else:\n",
    "        x_all[0] = temp_x\n",
    "        y_all[0] = temp_y\n",
    "        \n",
    "    return(x_all,y_all)\n"
   ]
  },
  {
   "cell_type": "code",
   "execution_count": 258,
   "metadata": {},
   "outputs": [],
   "source": [
    "def sample(k,x,y):\n",
    "    \n",
    "    return(k, energy(x,y))\n"
   ]
  },
  {
   "cell_type": "code",
   "execution_count": 259,
   "metadata": {},
   "outputs": [],
   "source": [
    "def mc(x_start,y_start,ncycl,nsamp):\n",
    "    \n",
    "    k = 0\n",
    "    x = x_start\n",
    "    y = y_start\n",
    "    cycles = [0]*int(ncycl/nsamp)\n",
    "    energies = [0]*int(ncycl/nsamp)\n",
    "    \n",
    "    for icycl in range(0,ncycl):\n",
    "        if math.fmod(icycl, nsamp) == 0.0:\n",
    "            k = int(icycl/nsamp)\n",
    "            cyc, en = sample(k,x,y)\n",
    "            cycles[k] = cyc*nsamp\n",
    "            energies[k] = en\n",
    "            x,y = mcmove(x_all,y_all)\n",
    "    \n",
    "    plt.plot(cycles[:], energies[:])\n",
    "\n",
    "    return()\n"
   ]
  },
  {
   "cell_type": "code",
   "execution_count": 260,
   "metadata": {},
   "outputs": [
    {
     "data": {
      "text/plain": [
       "()"
      ]
     },
     "execution_count": 260,
     "metadata": {},
     "output_type": "execute_result"
    },
    {
     "data": {
      "image/png": "[encoded data removed]",
      "text/plain": [
       "<Figure size 432x288 with 1 Axes>"
      ]
     },
     "metadata": {
      "needs_background": "light"
     },
     "output_type": "display_data"
    }
   ],
   "source": [
    "ncycl = 2000\n",
    "nsamp = 10\n",
    "\n",
    "mc(x_start,y_start,ncycl,nsamp)\n"
   ]
  },
  {
   "cell_type": "code",
   "execution_count": 261,
   "metadata": {},
   "outputs": [
    {
     "data": {
      "image/png": "[encoded data removed]",
      "text/plain": [
       "<Figure size 432x288 with 1 Axes>"
      ]
     },
     "metadata": {
      "needs_background": "light"
     },
     "output_type": "display_data"
    }
   ],
   "source": [
    "for i in range(0,N):\n",
    "    plt.scatter(x_start[i],y_start[i],c='k')\n",
    "    plt.scatter(x_all[i],y_all[i],c='r')\n",
    "plt.show()\n"
   ]
  },
  {
   "cell_type": "code",
   "execution_count": null,
   "metadata": {},
   "outputs": [],
   "source": []
  }
 ],
 "metadata": {
  "kernelspec": {
   "display_name": "Python 3",
   "language": "python",
   "name": "python3"
  },
  "language_info": {
   "codemirror_mode": {
    "name": "ipython",
    "version": 3
   },
   "file_extension": ".py",
   "mimetype": "text/x-python",
   "name": "python",
   "nbconvert_exporter": "python",
   "pygments_lexer": "ipython3",
   "version": "3.8.5"
  }
 },
 "nbformat": 4,
 "nbformat_minor": 4
}
